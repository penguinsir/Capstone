{
 "cells": [
  {
   "cell_type": "markdown",
   "id": "614378cc",
   "metadata": {},
   "source": [
    "# 1. Import Libaries"
   ]
  },
  {
   "cell_type": "code",
   "execution_count": 1,
   "id": "e8114d5e",
   "metadata": {},
   "outputs": [],
   "source": [
    "# Import libraries\n",
    "\n",
    "import pandas as pd\n",
    "import numpy as np\n",
    "\n",
    "import matplotlib.pyplot as plt\n",
    "import seaborn as sns\n",
    "\n",
    "from sklearn.experimental import enable_iterative_imputer  # noqa\n",
    "from sklearn.datasets import fetch_california_housing\n",
    "from sklearn.impute import SimpleImputer\n",
    "from sklearn.impute import IterativeImputer\n",
    "\n",
    "from scipy.stats import mannwhitneyu\n",
    "from scipy.stats import chi2_contingency\n",
    "\n",
    "%matplotlib inline\n"
   ]
  },
  {
   "cell_type": "markdown",
   "id": "50fd464d",
   "metadata": {},
   "source": [
    "# 2. Import Dataset"
   ]
  },
  {
   "cell_type": "code",
   "execution_count": 2,
   "id": "6e22b19e",
   "metadata": {},
   "outputs": [],
   "source": [
    "# Import Dataset\n",
    "\n",
    "df_clean = pd.read_csv(\"df_clean.csv\")"
   ]
  },
  {
   "cell_type": "markdown",
   "id": "15e1eaf2",
   "metadata": {},
   "source": [
    "# 3. Check Dataset"
   ]
  },
  {
   "cell_type": "code",
   "execution_count": 3,
   "id": "a1b6d1a5",
   "metadata": {},
   "outputs": [
    {
     "data": {
      "text/html": [
       "<div>\n",
       "<style scoped>\n",
       "    .dataframe tbody tr th:only-of-type {\n",
       "        vertical-align: middle;\n",
       "    }\n",
       "\n",
       "    .dataframe tbody tr th {\n",
       "        vertical-align: top;\n",
       "    }\n",
       "\n",
       "    .dataframe thead th {\n",
       "        text-align: right;\n",
       "    }\n",
       "</style>\n",
       "<table border=\"1\" class=\"dataframe\">\n",
       "  <thead>\n",
       "    <tr style=\"text-align: right;\">\n",
       "      <th></th>\n",
       "      <th>VAERS_ID</th>\n",
       "      <th>RECVDATE</th>\n",
       "      <th>STATE</th>\n",
       "      <th>AGE_YRS</th>\n",
       "      <th>SEX</th>\n",
       "      <th>DIED</th>\n",
       "      <th>L_THREAT</th>\n",
       "      <th>HOSPITAL</th>\n",
       "      <th>HOSPDAYS</th>\n",
       "      <th>X_STAY</th>\n",
       "      <th>...</th>\n",
       "      <th>VAX_DATE</th>\n",
       "      <th>ONSET_DATE</th>\n",
       "      <th>NUMDAYS</th>\n",
       "      <th>BIRTH_DEFECT</th>\n",
       "      <th>ER_ED_VISIT</th>\n",
       "      <th>VAX_MANU</th>\n",
       "      <th>VAX_DOSE_SERIES</th>\n",
       "      <th>VAX_SITE</th>\n",
       "      <th>VAX_NAME</th>\n",
       "      <th>SYMPTOM1</th>\n",
       "    </tr>\n",
       "  </thead>\n",
       "  <tbody>\n",
       "    <tr>\n",
       "      <th>0</th>\n",
       "      <td>916600</td>\n",
       "      <td>01/01/2021</td>\n",
       "      <td>TX</td>\n",
       "      <td>33.0</td>\n",
       "      <td>1</td>\n",
       "      <td>0</td>\n",
       "      <td>0</td>\n",
       "      <td>0</td>\n",
       "      <td>0</td>\n",
       "      <td>0</td>\n",
       "      <td>...</td>\n",
       "      <td>2020-12-28</td>\n",
       "      <td>2020-12-30</td>\n",
       "      <td>2</td>\n",
       "      <td>0</td>\n",
       "      <td>0</td>\n",
       "      <td>MODERNA</td>\n",
       "      <td>0</td>\n",
       "      <td>LA</td>\n",
       "      <td>COVID19 (COVID19 (MODERNA))</td>\n",
       "      <td>Non-Myocarditis-related</td>\n",
       "    </tr>\n",
       "    <tr>\n",
       "      <th>1</th>\n",
       "      <td>916601</td>\n",
       "      <td>01/01/2021</td>\n",
       "      <td>CA</td>\n",
       "      <td>73.0</td>\n",
       "      <td>1</td>\n",
       "      <td>0</td>\n",
       "      <td>0</td>\n",
       "      <td>0</td>\n",
       "      <td>0</td>\n",
       "      <td>0</td>\n",
       "      <td>...</td>\n",
       "      <td>2020-12-31</td>\n",
       "      <td>2020-12-31</td>\n",
       "      <td>0</td>\n",
       "      <td>0</td>\n",
       "      <td>0</td>\n",
       "      <td>MODERNA</td>\n",
       "      <td>0</td>\n",
       "      <td>RA</td>\n",
       "      <td>COVID19 (COVID19 (MODERNA))</td>\n",
       "      <td>Non-Myocarditis-related</td>\n",
       "    </tr>\n",
       "    <tr>\n",
       "      <th>2</th>\n",
       "      <td>916602</td>\n",
       "      <td>01/01/2021</td>\n",
       "      <td>WA</td>\n",
       "      <td>23.0</td>\n",
       "      <td>1</td>\n",
       "      <td>0</td>\n",
       "      <td>0</td>\n",
       "      <td>0</td>\n",
       "      <td>0</td>\n",
       "      <td>0</td>\n",
       "      <td>...</td>\n",
       "      <td>2020-12-31</td>\n",
       "      <td>2020-12-31</td>\n",
       "      <td>0</td>\n",
       "      <td>0</td>\n",
       "      <td>1</td>\n",
       "      <td>PFIZER\\BIONTECH</td>\n",
       "      <td>0</td>\n",
       "      <td>LA</td>\n",
       "      <td>COVID19 (COVID19 (PFIZER-BIONTECH))</td>\n",
       "      <td>Non-Myocarditis-related</td>\n",
       "    </tr>\n",
       "    <tr>\n",
       "      <th>3</th>\n",
       "      <td>916604</td>\n",
       "      <td>01/01/2021</td>\n",
       "      <td>TX</td>\n",
       "      <td>47.0</td>\n",
       "      <td>1</td>\n",
       "      <td>0</td>\n",
       "      <td>0</td>\n",
       "      <td>0</td>\n",
       "      <td>0</td>\n",
       "      <td>0</td>\n",
       "      <td>...</td>\n",
       "      <td>2020-12-22</td>\n",
       "      <td>2020-12-29</td>\n",
       "      <td>7</td>\n",
       "      <td>0</td>\n",
       "      <td>0</td>\n",
       "      <td>MODERNA</td>\n",
       "      <td>0</td>\n",
       "      <td>LA</td>\n",
       "      <td>COVID19 (COVID19 (MODERNA))</td>\n",
       "      <td>Non-Myocarditis-related</td>\n",
       "    </tr>\n",
       "    <tr>\n",
       "      <th>4</th>\n",
       "      <td>916606</td>\n",
       "      <td>01/01/2021</td>\n",
       "      <td>NV</td>\n",
       "      <td>44.0</td>\n",
       "      <td>1</td>\n",
       "      <td>0</td>\n",
       "      <td>0</td>\n",
       "      <td>0</td>\n",
       "      <td>0</td>\n",
       "      <td>0</td>\n",
       "      <td>...</td>\n",
       "      <td>2020-12-29</td>\n",
       "      <td>2020-12-29</td>\n",
       "      <td>0</td>\n",
       "      <td>0</td>\n",
       "      <td>0</td>\n",
       "      <td>MODERNA</td>\n",
       "      <td>0</td>\n",
       "      <td>LA</td>\n",
       "      <td>COVID19 (COVID19 (MODERNA))</td>\n",
       "      <td>Non-Myocarditis-related</td>\n",
       "    </tr>\n",
       "  </tbody>\n",
       "</table>\n",
       "<p>5 rows × 21 columns</p>\n",
       "</div>"
      ],
      "text/plain": [
       "   VAERS_ID    RECVDATE STATE  AGE_YRS  SEX  DIED  L_THREAT  HOSPITAL  \\\n",
       "0    916600  01/01/2021    TX     33.0    1     0         0         0   \n",
       "1    916601  01/01/2021    CA     73.0    1     0         0         0   \n",
       "2    916602  01/01/2021    WA     23.0    1     0         0         0   \n",
       "3    916604  01/01/2021    TX     47.0    1     0         0         0   \n",
       "4    916606  01/01/2021    NV     44.0    1     0         0         0   \n",
       "\n",
       "   HOSPDAYS  X_STAY  ...    VAX_DATE  ONSET_DATE NUMDAYS  BIRTH_DEFECT  \\\n",
       "0         0       0  ...  2020-12-28  2020-12-30       2             0   \n",
       "1         0       0  ...  2020-12-31  2020-12-31       0             0   \n",
       "2         0       0  ...  2020-12-31  2020-12-31       0             0   \n",
       "3         0       0  ...  2020-12-22  2020-12-29       7             0   \n",
       "4         0       0  ...  2020-12-29  2020-12-29       0             0   \n",
       "\n",
       "   ER_ED_VISIT         VAX_MANU VAX_DOSE_SERIES  VAX_SITE  \\\n",
       "0            0          MODERNA               0        LA   \n",
       "1            0          MODERNA               0        RA   \n",
       "2            1  PFIZER\\BIONTECH               0        LA   \n",
       "3            0          MODERNA               0        LA   \n",
       "4            0          MODERNA               0        LA   \n",
       "\n",
       "                              VAX_NAME                 SYMPTOM1  \n",
       "0          COVID19 (COVID19 (MODERNA))  Non-Myocarditis-related  \n",
       "1          COVID19 (COVID19 (MODERNA))  Non-Myocarditis-related  \n",
       "2  COVID19 (COVID19 (PFIZER-BIONTECH))  Non-Myocarditis-related  \n",
       "3          COVID19 (COVID19 (MODERNA))  Non-Myocarditis-related  \n",
       "4          COVID19 (COVID19 (MODERNA))  Non-Myocarditis-related  \n",
       "\n",
       "[5 rows x 21 columns]"
      ]
     },
     "execution_count": 3,
     "metadata": {},
     "output_type": "execute_result"
    }
   ],
   "source": [
    "# Check dataset\n",
    "\n",
    "df_clean.head()"
   ]
  },
  {
   "cell_type": "code",
   "execution_count": 4,
   "id": "7e555653",
   "metadata": {},
   "outputs": [],
   "source": [
    "# Remove VAX_NAME column because it is the same as the VAX_MENU column\n",
    "\n",
    "df_clean = df_clean.drop('VAX_NAME', axis=1)"
   ]
  },
  {
   "cell_type": "markdown",
   "id": "e48fdeed",
   "metadata": {},
   "source": [
    "# 4. Exploratory Data Analysis (EDA)"
   ]
  },
  {
   "cell_type": "markdown",
   "id": "de5fa290",
   "metadata": {},
   "source": [
    "In this step, we will be conducint EDA. This mainly shows the distribution of the features between the myocarditis/pericarditis patients and non-myocarditis/pericarditis patients.  "
   ]
  },
  {
   "cell_type": "markdown",
   "id": "8728e556",
   "metadata": {},
   "source": [
    "# 4.1 Age Distribution "
   ]
  },
  {
   "cell_type": "code",
   "execution_count": 5,
   "id": "3d60b271",
   "metadata": {},
   "outputs": [
    {
     "data": {
      "text/plain": [
       "<AxesSubplot:title={'center':'Age Distribution'}, xlabel='Age', ylabel='Frequency'>"
      ]
     },
     "execution_count": 5,
     "metadata": {},
     "output_type": "execute_result"
    },
    {
     "data": {
      "image/png": "[encoded data removed]",
      "text/plain": [
       "<Figure size 720x360 with 1 Axes>"
      ]
     },
     "metadata": {
      "needs_background": "light"
     },
     "output_type": "display_data"
    }
   ],
   "source": [
    "df_clean['AGE_YRS'].plot(kind='hist', bins=40, figsize=(10,5))\n",
    "plt.xlabel('Age')\n",
    "plt.title('Age Distribution')\n",
    "\n",
    "df_clean['AGE_YRS'].plot(kind='hist', bins=40, figsize=(10,5))"
   ]
  },
  {
   "cell_type": "code",
   "execution_count": 6,
   "id": "f55ea6df",
   "metadata": {},
   "outputs": [
    {
     "data": {
      "text/plain": [
       "Text(0, 0.5, 'Frequency')"
      ]
     },
     "execution_count": 6,
     "metadata": {},
     "output_type": "execute_result"
    },
    {
     "data": {
      "image/png": "[encoded data removed]",
      "text/plain": [
       "<Figure size 1080x720 with 2 Axes>"
      ]
     },
     "metadata": {
      "needs_background": "light"
     },
     "output_type": "display_data"
    }
   ],
   "source": [
    "# Age distribution between myocarditis adverse events and non-myocarditis events\n",
    "\n",
    "df_clean['AGE_YRS'].hist(by=df_clean['SYMPTOM1'], figsize=(15,10), bins=40)\n",
    "plt.xlabel('Age')\n",
    "plt.ylabel('Frequency')"
   ]
  },
  {
   "cell_type": "markdown",
   "id": "42a84091",
   "metadata": {},
   "source": [
    "# 4.2 Gender Distribution"
   ]
  },
  {
   "cell_type": "code",
   "execution_count": 7,
   "id": "867e6794",
   "metadata": {},
   "outputs": [
    {
     "data": {
      "text/plain": [
       "<AxesSubplot:xlabel='SEX', ylabel='count'>"
      ]
     },
     "execution_count": 7,
     "metadata": {},
     "output_type": "execute_result"
    },
    {
     "data": {
      "image/png": "[encoded data removed]",
      "text/plain": [
       "<Figure size 432x288 with 1 Axes>"
      ]
     },
     "metadata": {
      "needs_background": "light"
     },
     "output_type": "display_data"
    }
   ],
   "source": [
    "# Gender Distribution\n",
    "\n",
    "# Convert Sex into labels temporarily\n",
    "df_clean['SEX'] = df_clean['SEX'].replace({\n",
    "    \n",
    "    1:'F',\n",
    "    0:'M'\n",
    "    \n",
    "})\n",
    "\n",
    "sns.countplot(x=\"SEX\", data=df_clean)\n"
   ]
  },
  {
   "cell_type": "code",
   "execution_count": 8,
   "id": "be9bce56",
   "metadata": {},
   "outputs": [
    {
     "data": {
      "text/plain": [
       "Text(0, 0.5, 'Count')"
      ]
     },
     "execution_count": 8,
     "metadata": {},
     "output_type": "execute_result"
    },
    {
     "data": {
      "image/png": "[encoded data removed]",
      "text/plain": [
       "<Figure size 576x360 with 1 Axes>"
      ]
     },
     "metadata": {
      "needs_background": "light"
     },
     "output_type": "display_data"
    }
   ],
   "source": [
    "# Gender Distribution for those who have myocarditis/pericarditis related symptoms\n",
    "\n",
    "temp = df_clean.groupby(['SYMPTOM1','SEX']).size()\n",
    "\n",
    "temp[[0,1]].plot.bar(figsize=(8,5))\n",
    "plt.xlabel('Gender')\n",
    "plt.ylabel('Count')"
   ]
  },
  {
   "cell_type": "code",
   "execution_count": 9,
   "id": "394dbfda",
   "metadata": {},
   "outputs": [
    {
     "data": {
      "text/plain": [
       "Text(0, 0.5, 'Count')"
      ]
     },
     "execution_count": 9,
     "metadata": {},
     "output_type": "execute_result"
    },
    {
     "data": {
      "image/png": "[encoded data removed]",
      "text/plain": [
       "<Figure size 576x360 with 1 Axes>"
      ]
     },
     "metadata": {
      "needs_background": "light"
     },
     "output_type": "display_data"
    }
   ],
   "source": [
    "# Gender Distribution for those who have non-myocarditis/pericarditis related symptoms\n",
    "\n",
    "temp[[2,3]].plot.bar(figsize=(8,5))\n",
    "plt.xlabel('Gender')\n",
    "plt.ylabel('Count')"
   ]
  },
  {
   "cell_type": "code",
   "execution_count": 10,
   "id": "80edbf7e",
   "metadata": {},
   "outputs": [],
   "source": [
    "# Binarise Sex column\n",
    "\n",
    "df_clean['SEX'] = df_clean['SEX'].replace({\n",
    "    'F':1,\n",
    "    'M':0,\n",
    "    'U':2\n",
    "})\n",
    "\n",
    "df_clean['SEX'] = df_clean['SEX'].astype('int')"
   ]
  },
  {
   "cell_type": "markdown",
   "id": "429482a6",
   "metadata": {},
   "source": [
    "# 4.3 Death Distribution"
   ]
  },
  {
   "cell_type": "code",
   "execution_count": 11,
   "id": "e8db33dc",
   "metadata": {},
   "outputs": [
    {
     "data": {
      "text/plain": [
       "<AxesSubplot:xlabel='DIED', ylabel='count'>"
      ]
     },
     "execution_count": 11,
     "metadata": {},
     "output_type": "execute_result"
    },
    {
     "data": {
      "image/png": "[encoded data removed]",
      "text/plain": [
       "<Figure size 432x288 with 1 Axes>"
      ]
     },
     "metadata": {
      "needs_background": "light"
     },
     "output_type": "display_data"
    }
   ],
   "source": [
    "# Death Distribution\n",
    "\n",
    "# Convert Death into labels temporarily\n",
    "df_clean['DIED'] = df_clean['DIED'].replace({\n",
    "    \n",
    "    1:'Died',\n",
    "    0:'Alive'\n",
    "    \n",
    "})\n",
    "\n",
    "sns.countplot(x=\"DIED\", data=df_clean)\n"
   ]
  },
  {
   "cell_type": "code",
   "execution_count": 12,
   "id": "9d92f505",
   "metadata": {},
   "outputs": [
    {
     "data": {
      "text/plain": [
       "Text(0, 0.5, 'Count')"
      ]
     },
     "execution_count": 12,
     "metadata": {},
     "output_type": "execute_result"
    },
    {
     "data": {
      "image/png": "[encoded data removed]",
      "text/plain": [
       "<Figure size 576x360 with 1 Axes>"
      ]
     },
     "metadata": {
      "needs_background": "light"
     },
     "output_type": "display_data"
    }
   ],
   "source": [
    "# Death Distribution for those who have myocarditis/pericarditis related symptoms\n",
    "\n",
    "temp = df_clean.groupby(['SYMPTOM1','DIED']).size()\n",
    "\n",
    "temp[[0,1]].plot.bar(figsize=(8,5))\n",
    "plt.xlabel('Death')\n",
    "plt.ylabel('Count')"
   ]
  },
  {
   "cell_type": "code",
   "execution_count": 13,
   "id": "a31cdd33",
   "metadata": {},
   "outputs": [
    {
     "data": {
      "text/plain": [
       "Text(0, 0.5, 'Count')"
      ]
     },
     "execution_count": 13,
     "metadata": {},
     "output_type": "execute_result"
    },
    {
     "data": {
      "image/png": "[encoded data removed]",
      "text/plain": [
       "<Figure size 576x360 with 1 Axes>"
      ]
     },
     "metadata": {
      "needs_background": "light"
     },
     "output_type": "display_data"
    }
   ],
   "source": [
    "# Death Distribution for those who have non-myocarditis/pericarditis related symptoms\n",
    "\n",
    "temp[[2,3]].plot.bar(figsize=(8,5)) \n",
    "plt.xlabel('Death')\n",
    "plt.ylabel('Count')"
   ]
  },
  {
   "cell_type": "code",
   "execution_count": 14,
   "id": "81527c6c",
   "metadata": {},
   "outputs": [],
   "source": [
    "# Binarise Death \n",
    "\n",
    "df_clean['DIED'] = df_clean['DIED'].replace({\n",
    "    'Died':1,\n",
    "    'Alive':0\n",
    "})\n",
    "\n",
    "df_clean['DIED'] = df_clean['DIED'].astype('int')"
   ]
  },
  {
   "cell_type": "markdown",
   "id": "ea4cdf1b",
   "metadata": {},
   "source": [
    "# 4.4 Life Threatening Condition Distribution"
   ]
  },
  {
   "cell_type": "code",
   "execution_count": 15,
   "id": "6f8144af",
   "metadata": {},
   "outputs": [
    {
     "data": {
      "text/plain": [
       "<AxesSubplot:xlabel='L_THREAT', ylabel='count'>"
      ]
     },
     "execution_count": 15,
     "metadata": {},
     "output_type": "execute_result"
    },
    {
     "data": {
      "image/png": "[encoded data removed]",
      "text/plain": [
       "<Figure size 432x288 with 1 Axes>"
      ]
     },
     "metadata": {
      "needs_background": "light"
     },
     "output_type": "display_data"
    }
   ],
   "source": [
    "# L_THREAT Distribution\n",
    "\n",
    "# Convert L_Threat into labels temporarily\n",
    "df_clean['L_THREAT'] = df_clean['L_THREAT'].replace({\n",
    "    \n",
    "    1:'Life Threatening',\n",
    "    0:'Non-Life Threatening'\n",
    "    \n",
    "})\n",
    "\n",
    "sns.countplot(x=\"L_THREAT\", data=df_clean)"
   ]
  },
  {
   "cell_type": "code",
   "execution_count": 16,
   "id": "22076326",
   "metadata": {},
   "outputs": [
    {
     "data": {
      "text/plain": [
       "Text(0, 0.5, 'Count')"
      ]
     },
     "execution_count": 16,
     "metadata": {},
     "output_type": "execute_result"
    },
    {
     "data": {
      "image/png": "[encoded data removed]",
      "text/plain": [
       "<Figure size 576x360 with 1 Axes>"
      ]
     },
     "metadata": {
      "needs_background": "light"
     },
     "output_type": "display_data"
    }
   ],
   "source": [
    "# Life Threatening Condition Distribution for those who have myocarditis/pericarditis related symptoms\n",
    "\n",
    "temp = df_clean.groupby(['SYMPTOM1','L_THREAT']).size()\n",
    "\n",
    "temp[[0,1]].plot.bar(figsize=(8,5))\n",
    "plt.xlabel('Life Threatening Condition')\n",
    "plt.ylabel('Count')"
   ]
  },
  {
   "cell_type": "code",
   "execution_count": 17,
   "id": "ced92385",
   "metadata": {
    "scrolled": true
   },
   "outputs": [
    {
     "data": {
      "text/plain": [
       "Text(0, 0.5, 'Count')"
      ]
     },
     "execution_count": 17,
     "metadata": {},
     "output_type": "execute_result"
    },
    {
     "data": {
      "image/png": "[encoded data removed]",
      "text/plain": [
       "<Figure size 576x360 with 1 Axes>"
      ]
     },
     "metadata": {
      "needs_background": "light"
     },
     "output_type": "display_data"
    }
   ],
   "source": [
    "# Life Threatening Condition Distribution for those who have non-myocarditis/pericarditis related symptoms\n",
    "\n",
    "temp[[2,3]].plot.bar(figsize=(8,5))\n",
    "plt.xlabel('Life Threatening Condition')\n",
    "plt.ylabel('Count')"
   ]
  },
  {
   "cell_type": "code",
   "execution_count": 18,
   "id": "fe343389",
   "metadata": {},
   "outputs": [],
   "source": [
    "# Binarise Life Threatening Condition\n",
    "\n",
    "df_clean['L_THREAT'] = df_clean['L_THREAT'].replace({\n",
    "    'Life Threatening':1,\n",
    "    'Non-Life Threatening':0\n",
    "})\n",
    "\n",
    "df_clean['L_THREAT'] = df_clean['L_THREAT'].astype('int')"
   ]
  },
  {
   "cell_type": "markdown",
   "id": "ed4740ff",
   "metadata": {},
   "source": [
    "# 4.5 Hospitalisation Distribution "
   ]
  },
  {
   "cell_type": "code",
   "execution_count": 19,
   "id": "ae2baa38",
   "metadata": {},
   "outputs": [
    {
     "data": {
      "text/plain": [
       "<AxesSubplot:xlabel='HOSPITAL', ylabel='count'>"
      ]
     },
     "execution_count": 19,
     "metadata": {},
     "output_type": "execute_result"
    },
    {
     "data": {
      "image/png": "[encoded data removed]",
      "text/plain": [
       "<Figure size 432x288 with 1 Axes>"
      ]
     },
     "metadata": {
      "needs_background": "light"
     },
     "output_type": "display_data"
    }
   ],
   "source": [
    "# Hospitalisation Distribution\n",
    "\n",
    "# Convert Hospitalization into labels temporarily\n",
    "df_clean['HOSPITAL'] = df_clean['HOSPITAL'].replace({\n",
    "    \n",
    "    1:'Hospitalised',\n",
    "    0:'Not Hospitalised'\n",
    "    \n",
    "})\n",
    "\n",
    "sns.countplot(x=\"HOSPITAL\", data=df_clean)"
   ]
  },
  {
   "cell_type": "code",
   "execution_count": 20,
   "id": "b6c8abff",
   "metadata": {},
   "outputs": [
    {
     "data": {
      "text/plain": [
       "Text(0, 0.5, 'Count')"
      ]
     },
     "execution_count": 20,
     "metadata": {},
     "output_type": "execute_result"
    },
    {
     "data": {
      "image/png": "[encoded data removed]",
      "text/plain": [
       "<Figure size 576x360 with 1 Axes>"
      ]
     },
     "metadata": {
      "needs_background": "light"
     },
     "output_type": "display_data"
    }
   ],
   "source": [
    "# Hospitalisation Distribution for those who have myocarditis/pericarditis related symptoms\n",
    "\n",
    "temp = df_clean.groupby(['SYMPTOM1','HOSPITAL']).size()\n",
    "\n",
    "temp[[0,1]].plot.bar(figsize=(8,5))\n",
    "plt.xlabel('Hospitalisation')\n",
    "plt.ylabel('Count')"
   ]
  },
  {
   "cell_type": "code",
   "execution_count": 21,
   "id": "6f5ad1c5",
   "metadata": {},
   "outputs": [
    {
     "data": {
      "text/plain": [
       "Text(0, 0.5, 'Count')"
      ]
     },
     "execution_count": 21,
     "metadata": {},
     "output_type": "execute_result"
    },
    {
     "data": {
      "image/png": "[encoded data removed]",
      "text/plain": [
       "<Figure size 576x360 with 1 Axes>"
      ]
     },
     "metadata": {
      "needs_background": "light"
     },
     "output_type": "display_data"
    }
   ],
   "source": [
    "# Hospitalisation Distribution for those who have non-myocarditis/pericarditis related symptoms\n",
    "\n",
    "temp[[2,3]].plot.bar(figsize=(8,5))\n",
    "plt.xlabel('Hospitalisation')\n",
    "plt.ylabel('Count')"
   ]
  },
  {
   "cell_type": "code",
   "execution_count": 22,
   "id": "1df53eb2",
   "metadata": {},
   "outputs": [],
   "source": [
    "# Binarise Hospitalisation\n",
    "\n",
    "df_clean['HOSPITAL'] = df_clean['HOSPITAL'].replace({\n",
    "    'Hospitalised':1,\n",
    "    'Not Hospitalised':0\n",
    "})\n",
    "\n",
    "df_clean['HOSPITAL'] = df_clean['HOSPITAL'].astype('int')"
   ]
  },
  {
   "cell_type": "markdown",
   "id": "90e6495b",
   "metadata": {},
   "source": [
    "# 4.6 Number of days Hospitalised "
   ]
  },
  {
   "cell_type": "code",
   "execution_count": 23,
   "id": "5a307643",
   "metadata": {
    "scrolled": true
   },
   "outputs": [
    {
     "data": {
      "text/plain": [
       "Text(0, 0.5, 'Number of Days Hospitalised')"
      ]
     },
     "execution_count": 23,
     "metadata": {},
     "output_type": "execute_result"
    },
    {
     "data": {
      "image/png": "[encoded data removed]",
      "text/plain": [
       "<Figure size 576x360 with 1 Axes>"
      ]
     },
     "metadata": {
      "needs_background": "light"
     },
     "output_type": "display_data"
    }
   ],
   "source": [
    "# HOSPDAYS\n",
    "\n",
    "df_clean['HOSPDAYS'].hist(figsize=(8,5), bins=40)\n",
    "plt.xlabel('Count')\n",
    "plt.ylabel('Number of Days Hospitalised')"
   ]
  },
  {
   "cell_type": "code",
   "execution_count": 24,
   "id": "45370b2c",
   "metadata": {},
   "outputs": [
    {
     "data": {
      "text/plain": [
       "Text(0, 0.5, 'Number of Days Hospitalised')"
      ]
     },
     "execution_count": 24,
     "metadata": {},
     "output_type": "execute_result"
    },
    {
     "data": {
      "image/png": "[encoded data removed]",
      "text/plain": [
       "<Figure size 576x360 with 2 Axes>"
      ]
     },
     "metadata": {
      "needs_background": "light"
     },
     "output_type": "display_data"
    }
   ],
   "source": [
    "# Hospitalisation Days Distribution for those who have or not have myocarditis/pericarditis related symptoms\n",
    "\n",
    "df_clean['HOSPDAYS'].hist(by=df_clean['SYMPTOM1'], figsize=(8,5), bins=40)\n",
    "plt.xlabel('Count')\n",
    "plt.ylabel('Number of Days Hospitalised')"
   ]
  },
  {
   "cell_type": "markdown",
   "id": "7004c6cc",
   "metadata": {},
   "source": [
    "# 4.7 Extended Hospitalisation Stay"
   ]
  },
  {
   "cell_type": "code",
   "execution_count": 25,
   "id": "a101ebdd",
   "metadata": {},
   "outputs": [
    {
     "data": {
      "text/plain": [
       "<AxesSubplot:xlabel='X_STAY', ylabel='count'>"
      ]
     },
     "execution_count": 25,
     "metadata": {},
     "output_type": "execute_result"
    },
    {
     "data": {
      "image/png": "[encoded data removed]",
      "text/plain": [
       "<Figure size 432x288 with 1 Axes>"
      ]
     },
     "metadata": {
      "needs_background": "light"
     },
     "output_type": "display_data"
    }
   ],
   "source": [
    "# Extended Hospitalisation Stay Distribution\n",
    "\n",
    "# Convert Extended Hospitalization into labels temporarily\n",
    "df_clean['X_STAY'] = df_clean['X_STAY'].replace({\n",
    "    \n",
    "    1:'Extended Stay',\n",
    "    0:'Not Extended Stay'\n",
    "    \n",
    "})\n",
    "\n",
    "sns.countplot(x=\"X_STAY\", data=df_clean)"
   ]
  },
  {
   "cell_type": "code",
   "execution_count": 26,
   "id": "8977c323",
   "metadata": {},
   "outputs": [
    {
     "data": {
      "text/plain": [
       "Text(0, 0.5, 'Count')"
      ]
     },
     "execution_count": 26,
     "metadata": {},
     "output_type": "execute_result"
    },
    {
     "data": {
      "image/png": "[encoded data removed]",
      "text/plain": [
       "<Figure size 576x360 with 1 Axes>"
      ]
     },
     "metadata": {
      "needs_background": "light"
     },
     "output_type": "display_data"
    }
   ],
   "source": [
    "# Extended Hospitalisation Stay Distribution for those who have myocarditis/pericarditis related symptoms\n",
    "\n",
    "temp = df_clean.groupby(['SYMPTOM1','X_STAY']).size()\n",
    "\n",
    "temp[[0,1]].plot.bar(figsize=(8,5))\n",
    "plt.xlabel('Extended Hospitalisation Stay')\n",
    "plt.ylabel('Count')"
   ]
  },
  {
   "cell_type": "code",
   "execution_count": 27,
   "id": "82906e1a",
   "metadata": {},
   "outputs": [
    {
     "data": {
      "text/plain": [
       "Text(0, 0.5, 'Count')"
      ]
     },
     "execution_count": 27,
     "metadata": {},
     "output_type": "execute_result"
    },
    {
     "data": {
      "image/png": "[encoded data removed]",
      "text/plain": [
       "<Figure size 576x360 with 1 Axes>"
      ]
     },
     "metadata": {
      "needs_background": "light"
     },
     "output_type": "display_data"
    }
   ],
   "source": [
    "# Extended Hospitalisation Stay Distribution for those who have myocarditis/pericarditis related symptoms\n",
    "\n",
    "temp[[2,3]].plot.bar(figsize=(8,5))\n",
    "plt.xlabel('Extended Hospitalisation Stay')\n",
    "plt.ylabel('Count')"
   ]
  },
  {
   "cell_type": "code",
   "execution_count": 28,
   "id": "190d2480",
   "metadata": {},
   "outputs": [],
   "source": [
    "# Binarise Extended Stay\n",
    "\n",
    "df_clean['X_STAY'] = df_clean['X_STAY'].replace({\n",
    "    'Extended Stay':1,\n",
    "    'Not Extended Stay':0\n",
    "})\n",
    "\n",
    "df_clean['X_STAY'] = df_clean['X_STAY'].astype('int')"
   ]
  },
  {
   "cell_type": "markdown",
   "id": "9e87a940",
   "metadata": {},
   "source": [
    "# 4.8 Disability Distribution"
   ]
  },
  {
   "cell_type": "code",
   "execution_count": 29,
   "id": "29635c70",
   "metadata": {},
   "outputs": [
    {
     "data": {
      "text/plain": [
       "<AxesSubplot:xlabel='DISABLE', ylabel='count'>"
      ]
     },
     "execution_count": 29,
     "metadata": {},
     "output_type": "execute_result"
    },
    {
     "data": {
      "image/png": "[encoded data removed]",
      "text/plain": [
       "<Figure size 432x288 with 1 Axes>"
      ]
     },
     "metadata": {
      "needs_background": "light"
     },
     "output_type": "display_data"
    }
   ],
   "source": [
    "# Disability Distribution\n",
    "\n",
    "# Convert Disability into labels temporarily\n",
    "df_clean['DISABLE'] = df_clean['DISABLE'].replace({\n",
    "    \n",
    "    1:'Disabled',\n",
    "    0:'Not Disabled'\n",
    "    \n",
    "})\n",
    "\n",
    "sns.countplot(x=\"DISABLE\", data=df_clean)"
   ]
  },
  {
   "cell_type": "code",
   "execution_count": 30,
   "id": "8ecd2384",
   "metadata": {},
   "outputs": [
    {
     "data": {
      "text/plain": [
       "Text(0, 0.5, 'Count')"
      ]
     },
     "execution_count": 30,
     "metadata": {},
     "output_type": "execute_result"
    },
    {
     "data": {
      "image/png": "[encoded data removed]",
      "text/plain": [
       "<Figure size 576x360 with 1 Axes>"
      ]
     },
     "metadata": {
      "needs_background": "light"
     },
     "output_type": "display_data"
    }
   ],
   "source": [
    "# Disability Distribution for those who have myocarditis/pericarditis related symptoms\n",
    "\n",
    "temp = df_clean.groupby(['SYMPTOM1','DISABLE']).size()\n",
    "temp[[0,1]].plot.bar(figsize=(8,5))\n",
    "\n",
    "plt.xlabel('Disability')\n",
    "plt.ylabel('Count')"
   ]
  },
  {
   "cell_type": "code",
   "execution_count": 31,
   "id": "747f97c5",
   "metadata": {},
   "outputs": [
    {
     "data": {
      "text/plain": [
       "Text(0, 0.5, 'Count')"
      ]
     },
     "execution_count": 31,
     "metadata": {},
     "output_type": "execute_result"
    },
    {
     "data": {
      "image/png": "[encoded data removed]",
      "text/plain": [
       "<Figure size 576x360 with 1 Axes>"
      ]
     },
     "metadata": {
      "needs_background": "light"
     },
     "output_type": "display_data"
    }
   ],
   "source": [
    "# Disability Distribution for those who have non-myocarditis/pericarditis related symptoms\n",
    "\n",
    "temp[[2,3]].plot.bar(figsize=(8,5))\n",
    "\n",
    "plt.xlabel('Disability')\n",
    "plt.ylabel('Count')"
   ]
  },
  {
   "cell_type": "code",
   "execution_count": 32,
   "id": "257dc88b",
   "metadata": {},
   "outputs": [],
   "source": [
    "# Binarise Disability \n",
    "\n",
    "df_clean['DISABLE'] = df_clean['DISABLE'].replace({\n",
    "    'Disabled':1,\n",
    "    'Not Disabled':0\n",
    "})\n",
    "\n",
    "df_clean['DISABLE'] = df_clean['DISABLE'].astype('int')"
   ]
  },
  {
   "cell_type": "markdown",
   "id": "75a2f473",
   "metadata": {},
   "source": [
    "# 4.9 Number of Days between Vaccination and Onset of AE"
   ]
  },
  {
   "cell_type": "code",
   "execution_count": 33,
   "id": "a8a1eb9b",
   "metadata": {},
   "outputs": [
    {
     "data": {
      "text/plain": [
       "Text(0, 0.5, 'Count')"
      ]
     },
     "execution_count": 33,
     "metadata": {},
     "output_type": "execute_result"
    },
    {
     "data": {
      "image/png": "[encoded data removed]",
      "text/plain": [
       "<Figure size 576x360 with 1 Axes>"
      ]
     },
     "metadata": {
      "needs_background": "light"
     },
     "output_type": "display_data"
    }
   ],
   "source": [
    "# NUMDAYS\n",
    "\n",
    "df_clean['NUMDAYS'].hist(figsize=(8,5), bins=40)\n",
    "plt.xlabel('Number of days')\n",
    "plt.ylabel('Count')"
   ]
  },
  {
   "cell_type": "code",
   "execution_count": 34,
   "id": "9fdce99f",
   "metadata": {
    "scrolled": true
   },
   "outputs": [
    {
     "data": {
      "text/plain": [
       "Text(0, 0.5, 'Count')"
      ]
     },
     "execution_count": 34,
     "metadata": {},
     "output_type": "execute_result"
    },
    {
     "data": {
      "image/png": "[encoded data removed]",
      "text/plain": [
       "<Figure size 576x360 with 2 Axes>"
      ]
     },
     "metadata": {
      "needs_background": "light"
     },
     "output_type": "display_data"
    }
   ],
   "source": [
    "df_clean['NUMDAYS'].hist(by=df_clean['SYMPTOM1'], figsize=(8,5), bins=40)\n",
    "plt.xlabel('Number of days')\n",
    "plt.ylabel('Count')"
   ]
  },
  {
   "cell_type": "markdown",
   "id": "df085ca4",
   "metadata": {},
   "source": [
    "# 4.10 Birth Defect"
   ]
  },
  {
   "cell_type": "code",
   "execution_count": 35,
   "id": "20be1752",
   "metadata": {},
   "outputs": [
    {
     "data": {
      "text/plain": [
       "<AxesSubplot:xlabel='BIRTH_DEFECT', ylabel='count'>"
      ]
     },
     "execution_count": 35,
     "metadata": {},
     "output_type": "execute_result"
    },
    {
     "data": {
      "image/png": "[encoded data removed]",
      "text/plain": [
       "<Figure size 432x288 with 1 Axes>"
      ]
     },
     "metadata": {
      "needs_background": "light"
     },
     "output_type": "display_data"
    }
   ],
   "source": [
    "# Birth Defect Distribution\n",
    "\n",
    "# Convert Birth Defect into labels temporarily\n",
    "df_clean['BIRTH_DEFECT'] = df_clean['BIRTH_DEFECT'].replace({\n",
    "    \n",
    "    1:'Birth Defect',\n",
    "    0:'No Birth Defect'\n",
    "    \n",
    "})\n",
    "\n",
    "sns.countplot(x=\"BIRTH_DEFECT\", data=df_clean)"
   ]
  },
  {
   "cell_type": "code",
   "execution_count": 36,
   "id": "36e723b6",
   "metadata": {},
   "outputs": [
    {
     "data": {
      "text/plain": [
       "Text(0, 0.5, 'Count')"
      ]
     },
     "execution_count": 36,
     "metadata": {},
     "output_type": "execute_result"
    },
    {
     "data": {
      "image/png": "[encoded data removed]",
      "text/plain": [
       "<Figure size 576x360 with 1 Axes>"
      ]
     },
     "metadata": {
      "needs_background": "light"
     },
     "output_type": "display_data"
    }
   ],
   "source": [
    "# Birth Defect Distribution for those who have myocarditis/pericarditis related symptoms\n",
    "\n",
    "temp = df_clean.groupby(['SYMPTOM1','BIRTH_DEFECT']).size()\n",
    "\n",
    "temp[[0,1]].plot.bar(figsize=(8,5))\n",
    "\n",
    "plt.xlabel('Birth Defect')\n",
    "plt.ylabel('Count')"
   ]
  },
  {
   "cell_type": "code",
   "execution_count": 37,
   "id": "8c2ae7f0",
   "metadata": {},
   "outputs": [
    {
     "data": {
      "text/plain": [
       "Text(0, 0.5, 'Count')"
      ]
     },
     "execution_count": 37,
     "metadata": {},
     "output_type": "execute_result"
    },
    {
     "data": {
      "image/png": "[encoded data removed]",
      "text/plain": [
       "<Figure size 576x360 with 1 Axes>"
      ]
     },
     "metadata": {
      "needs_background": "light"
     },
     "output_type": "display_data"
    }
   ],
   "source": [
    "# Birth Defect Distribution for those who have non-myocarditis/pericarditis related symptoms\n",
    "\n",
    "temp[[2,3]].plot.bar(figsize=(8,5))\n",
    "\n",
    "plt.xlabel('Birth Defect')\n",
    "plt.ylabel('Count')"
   ]
  },
  {
   "cell_type": "code",
   "execution_count": 38,
   "id": "1c314bd1",
   "metadata": {},
   "outputs": [],
   "source": [
    "# Binarise Birth Defect\n",
    "\n",
    "df_clean['BIRTH_DEFECT'] = df_clean['BIRTH_DEFECT'].replace({\n",
    "    'Birth Defect':1,\n",
    "    'No Birth Defect':0\n",
    "})\n",
    "\n",
    "df_clean['BIRTH_DEFECT'] = df_clean['BIRTH_DEFECT'].astype('int')"
   ]
  },
  {
   "cell_type": "markdown",
   "id": "e4f51db9",
   "metadata": {},
   "source": [
    "# 4.11 ER_ED_VISIT Distribution"
   ]
  },
  {
   "cell_type": "code",
   "execution_count": 39,
   "id": "64701fc6",
   "metadata": {},
   "outputs": [
    {
     "data": {
      "text/plain": [
       "<AxesSubplot:xlabel='ER_ED_VISIT', ylabel='count'>"
      ]
     },
     "execution_count": 39,
     "metadata": {},
     "output_type": "execute_result"
    },
    {
     "data": {
      "image/png": "[encoded data removed]",
      "text/plain": [
       "<Figure size 432x288 with 1 Axes>"
      ]
     },
     "metadata": {
      "needs_background": "light"
     },
     "output_type": "display_data"
    }
   ],
   "source": [
    "# ER_ED_VISIT Distribution\n",
    "\n",
    "# Convert ER_ED_VISIT into labels temporarily\n",
    "\n",
    "df_clean['ER_ED_VISIT'] = df_clean['ER_ED_VISIT'].replace({\n",
    "    \n",
    "    1:'Visit ER',\n",
    "    0:'No Visit ER'\n",
    "    \n",
    "})\n",
    "\n",
    "sns.countplot(x=\"ER_ED_VISIT\", data=df_clean)"
   ]
  },
  {
   "cell_type": "code",
   "execution_count": 40,
   "id": "9605bf08",
   "metadata": {},
   "outputs": [
    {
     "data": {
      "text/plain": [
       "Text(0, 0.5, 'Count')"
      ]
     },
     "execution_count": 40,
     "metadata": {},
     "output_type": "execute_result"
    },
    {
     "data": {
      "image/png": "[encoded data removed]",
      "text/plain": [
       "<Figure size 576x360 with 1 Axes>"
      ]
     },
     "metadata": {
      "needs_background": "light"
     },
     "output_type": "display_data"
    }
   ],
   "source": [
    "# ER_ED VISIT Distribution for those who have myocarditis/pericarditis related symptoms\n",
    "\n",
    "temp = df_clean.groupby(['SYMPTOM1','ER_ED_VISIT']).size()\n",
    "\n",
    "temp[[0,1]].plot.bar(figsize=(8,5))\n",
    "\n",
    "plt.xlabel('ER Visit')\n",
    "plt.ylabel('Count')"
   ]
  },
  {
   "cell_type": "code",
   "execution_count": 41,
   "id": "f9999988",
   "metadata": {},
   "outputs": [
    {
     "data": {
      "text/plain": [
       "Text(0, 0.5, 'Count')"
      ]
     },
     "execution_count": 41,
     "metadata": {},
     "output_type": "execute_result"
    },
    {
     "data": {
      "image/png": "[encoded data removed]",
      "text/plain": [
       "<Figure size 576x360 with 1 Axes>"
      ]
     },
     "metadata": {
      "needs_background": "light"
     },
     "output_type": "display_data"
    }
   ],
   "source": [
    "# ER_ED VISIT Distribution for those who have non-myocarditis/pericarditis related symptoms\n",
    "\n",
    "temp[[2,3]].plot.bar(figsize=(8,5))\n",
    "\n",
    "plt.xlabel('ER Visit')\n",
    "plt.ylabel('Count')"
   ]
  },
  {
   "cell_type": "code",
   "execution_count": 42,
   "id": "2b11aa85",
   "metadata": {},
   "outputs": [],
   "source": [
    "# Binarise ER_ED_VISIT\n",
    "\n",
    "df_clean['ER_ED_VISIT'] = df_clean['ER_ED_VISIT'].replace({\n",
    "    'Visit ER':1,\n",
    "    'No Visit ER':0\n",
    "})\n",
    "\n",
    "df_clean['ER_ED_VISIT'] = df_clean['ER_ED_VISIT'].astype('int')"
   ]
  },
  {
   "cell_type": "markdown",
   "id": "333b9842",
   "metadata": {},
   "source": [
    "# 4.12 Vaccination Manu Distribution"
   ]
  },
  {
   "cell_type": "code",
   "execution_count": 43,
   "id": "2673eb6f",
   "metadata": {},
   "outputs": [
    {
     "data": {
      "text/plain": [
       "<AxesSubplot:xlabel='VAX_MANU', ylabel='count'>"
      ]
     },
     "execution_count": 43,
     "metadata": {},
     "output_type": "execute_result"
    },
    {
     "data": {
      "image/png": "[encoded data removed]",
      "text/plain": [
       "<Figure size 432x288 with 1 Axes>"
      ]
     },
     "metadata": {
      "needs_background": "light"
     },
     "output_type": "display_data"
    }
   ],
   "source": [
    "# VAX MANU Distribution\n",
    "\n",
    "sns.countplot(x=\"VAX_MANU\", data=df_clean)"
   ]
  },
  {
   "cell_type": "code",
   "execution_count": 44,
   "id": "57a8fd64",
   "metadata": {},
   "outputs": [
    {
     "data": {
      "text/plain": [
       "Text(0, 0.5, 'Count')"
      ]
     },
     "execution_count": 44,
     "metadata": {},
     "output_type": "execute_result"
    },
    {
     "data": {
      "image/png": "[encoded data removed]",
      "text/plain": [
       "<Figure size 576x360 with 1 Axes>"
      ]
     },
     "metadata": {
      "needs_background": "light"
     },
     "output_type": "display_data"
    }
   ],
   "source": [
    "# VAX MANU Distribution for those who have myocarditis/pericarditis related symptoms\n",
    "\n",
    "temp = df_clean.groupby(['SYMPTOM1','VAX_MANU']).size()\n",
    "\n",
    "temp[[0,1,2,3]].plot.bar(figsize=(8,5))\n",
    "plt.xlabel('Vaccination Type')\n",
    "plt.ylabel('Count')"
   ]
  },
  {
   "cell_type": "code",
   "execution_count": 45,
   "id": "e085e79c",
   "metadata": {},
   "outputs": [
    {
     "data": {
      "text/plain": [
       "Text(0, 0.5, 'Count')"
      ]
     },
     "execution_count": 45,
     "metadata": {},
     "output_type": "execute_result"
    },
    {
     "data": {
      "image/png": "[encoded data removed]",
      "text/plain": [
       "<Figure size 576x360 with 1 Axes>"
      ]
     },
     "metadata": {
      "needs_background": "light"
     },
     "output_type": "display_data"
    }
   ],
   "source": [
    "# VAX MANU Distribution for those who have non-myocarditis/pericarditis related symptoms\n",
    "\n",
    "temp[[4,5,6,7]].plot.bar(figsize=(8,5))\n",
    "plt.xlabel('Vaccination Type')\n",
    "plt.ylabel('Count')"
   ]
  },
  {
   "cell_type": "markdown",
   "id": "6ed1444c",
   "metadata": {},
   "source": [
    "# 4.13 Vaccination Site"
   ]
  },
  {
   "cell_type": "code",
   "execution_count": 46,
   "id": "5992bf52",
   "metadata": {},
   "outputs": [
    {
     "data": {
      "text/plain": [
       "<AxesSubplot:xlabel='VAX_MANU', ylabel='count'>"
      ]
     },
     "execution_count": 46,
     "metadata": {},
     "output_type": "execute_result"
    },
    {
     "data": {
      "image/png": "[encoded data removed]",
      "text/plain": [
       "<Figure size 432x288 with 1 Axes>"
      ]
     },
     "metadata": {
      "needs_background": "light"
     },
     "output_type": "display_data"
    }
   ],
   "source": [
    "# Vaccination site Distribution\n",
    "\n",
    "sns.countplot(x=\"VAX_MANU\", data=df_clean)"
   ]
  },
  {
   "cell_type": "code",
   "execution_count": 47,
   "id": "1a82fa60",
   "metadata": {},
   "outputs": [
    {
     "data": {
      "text/plain": [
       "Text(0, 0.5, 'Count')"
      ]
     },
     "execution_count": 47,
     "metadata": {},
     "output_type": "execute_result"
    },
    {
     "data": {
      "image/png": "[encoded data removed]",
      "text/plain": [
       "<Figure size 576x360 with 1 Axes>"
      ]
     },
     "metadata": {
      "needs_background": "light"
     },
     "output_type": "display_data"
    }
   ],
   "source": [
    "# Vaccination Site Distribution for those who have myocarditis/pericarditis related symptoms\n",
    "\n",
    "temp = df_clean.groupby(['SYMPTOM1','VAX_SITE']).size()\n",
    "\n",
    "temp[[0,1,2]].plot.bar(figsize=(8,5))\n",
    "plt.xlabel('Vaccination Site')\n",
    "plt.ylabel('Count')"
   ]
  },
  {
   "cell_type": "code",
   "execution_count": 48,
   "id": "a13a057b",
   "metadata": {},
   "outputs": [
    {
     "data": {
      "text/plain": [
       "Text(0, 0.5, 'Count')"
      ]
     },
     "execution_count": 48,
     "metadata": {},
     "output_type": "execute_result"
    },
    {
     "data": {
      "image/png": "[encoded data removed]",
      "text/plain": [
       "<Figure size 576x360 with 1 Axes>"
      ]
     },
     "metadata": {
      "needs_background": "light"
     },
     "output_type": "display_data"
    }
   ],
   "source": [
    "# VAX MANU Distribution for those who have non-myocarditis/pericarditis related symptoms\n",
    "\n",
    "temp = df_clean.groupby(['SYMPTOM1','VAX_SITE']).size()\n",
    "\n",
    "temp[[3,4,5]].plot.bar(figsize=(8,5))\n",
    "plt.xlabel('Vaccination Site')\n",
    "plt.ylabel('Count')"
   ]
  },
  {
   "cell_type": "markdown",
   "id": "d63c2483",
   "metadata": {},
   "source": [
    "# 4.15 Correlation Matrix"
   ]
  },
  {
   "cell_type": "code",
   "execution_count": 49,
   "id": "737d3391",
   "metadata": {},
   "outputs": [
    {
     "data": {
      "text/plain": [
       "<AxesSubplot:>"
      ]
     },
     "execution_count": 49,
     "metadata": {},
     "output_type": "execute_result"
    },
    {
     "data": {
      "text/plain": [
       "<Figure size 1080x1080 with 0 Axes>"
      ]
     },
     "metadata": {},
     "output_type": "display_data"
    },
    {
     "data": {
      "image/png": "[encoded data removed]",
      "text/plain": [
       "<Figure size 648x648 with 2 Axes>"
      ]
     },
     "metadata": {
      "needs_background": "light"
     },
     "output_type": "display_data"
    }
   ],
   "source": [
    "plt.figure(figsize=(15,15))\n",
    "mask = np.triu(np.ones_like(df_clean.corr(), dtype=bool))\n",
    "f, ax = plt.subplots(figsize=(9, 9))\n",
    "sns.heatmap(df_clean.corr(), mask=mask, vmax=1, center=0,\n",
    "            square=True, linewidths=.5, cbar_kws={\"shrink\": .5})\n",
    "#sns.heatmap(df_clean.corr(), annot=True)"
   ]
  },
  {
   "cell_type": "markdown",
   "id": "11a0de94",
   "metadata": {},
   "source": [
    "# 5. Biostatistics of demographics and feature information"
   ]
  },
  {
   "cell_type": "markdown",
   "id": "67c72d58",
   "metadata": {},
   "source": [
    "In this step, we will be conducting biostatistical tests:\n",
    "    \n",
    "1. Mannwhitney U test for continuous features because the distribution are not normal\n",
    "2. Chi-Square test for binary categorical features and multi-categorical features\n",
    "\n",
    "The statistics complements the EDA well since they are both derived from the distribution of the data. The p-values can also be used for feature selection. Selecting only features that are statistically significant. However, this can also yield poorer results as compared to using the original clean data."
   ]
  },
  {
   "cell_type": "markdown",
   "id": "40a50fc5",
   "metadata": {},
   "source": [
    "# 5.1 Overview of feature and outcome information"
   ]
  },
  {
   "cell_type": "code",
   "execution_count": 50,
   "id": "6a466c1e",
   "metadata": {},
   "outputs": [
    {
     "data": {
      "text/plain": [
       "Index(['VAERS_ID', 'RECVDATE', 'STATE', 'AGE_YRS', 'SEX', 'DIED', 'L_THREAT',\n",
       "       'HOSPITAL', 'HOSPDAYS', 'X_STAY', 'DISABLE', 'VAX_DATE', 'ONSET_DATE',\n",
       "       'NUMDAYS', 'BIRTH_DEFECT', 'ER_ED_VISIT', 'VAX_MANU', 'VAX_DOSE_SERIES',\n",
       "       'VAX_SITE', 'SYMPTOM1'],\n",
       "      dtype='object')"
      ]
     },
     "execution_count": 50,
     "metadata": {},
     "output_type": "execute_result"
    }
   ],
   "source": [
    "# Feature information\n",
    "\n",
    "df_clean.columns"
   ]
  },
  {
   "cell_type": "code",
   "execution_count": 51,
   "id": "2d3d7d08",
   "metadata": {},
   "outputs": [
    {
     "data": {
      "text/plain": [
       "Non-Myocarditis-related    542123\n",
       "Myocarditis-related          2599\n",
       "Name: SYMPTOM1, dtype: int64"
      ]
     },
     "execution_count": 51,
     "metadata": {},
     "output_type": "execute_result"
    }
   ],
   "source": [
    "df_clean['SYMPTOM1'].value_counts()"
   ]
  },
  {
   "cell_type": "code",
   "execution_count": 52,
   "id": "415b2383",
   "metadata": {},
   "outputs": [],
   "source": [
    "df_myocarditis = df_clean[df_clean['SYMPTOM1'] == 'Myocarditis-related']\n",
    "df_non_myocarditis = df_clean[df_clean['SYMPTOM1'] == 'Non-Myocarditis-related']"
   ]
  },
  {
   "cell_type": "markdown",
   "id": "e5281216",
   "metadata": {},
   "source": [
    "# 5.2 Gender (Binary Categorical): Chi-Square Test"
   ]
  },
  {
   "cell_type": "code",
   "execution_count": 53,
   "id": "5babf5bb",
   "metadata": {},
   "outputs": [
    {
     "name": "stdout",
     "output_type": "stream",
     "text": [
      "stat=1462.459, p=0.000\n"
     ]
    }
   ],
   "source": [
    "# Gender Chi Square Test\n",
    "\n",
    "myocarditis_male = len(df_myocarditis[df_myocarditis['SEX'] == 0])\n",
    "myocarditis_female = len(df_myocarditis[df_myocarditis['SEX'] == 1])\n",
    "non_myocarditis_male = len(df_non_myocarditis[df_non_myocarditis['SEX'] == 0])\n",
    "non_myocarditis_female = len(df_non_myocarditis[df_non_myocarditis['SEX'] == 1])\n",
    "\n",
    "table = [[myocarditis_male,non_myocarditis_male],[myocarditis_female,non_myocarditis_female]]\n",
    "\n",
    "stat, p, dof, expected = chi2_contingency(table)\n",
    "print('stat=%.3f, p=%.3f' % (stat, p))"
   ]
  },
  {
   "cell_type": "code",
   "execution_count": 54,
   "id": "9268b97f",
   "metadata": {},
   "outputs": [],
   "source": [
    "myocarditis_male_prop = 100 * myocarditis_male / (myocarditis_male + myocarditis_female)\n",
    "non_myocarditis_male_prop = 100 * non_myocarditis_male / (non_myocarditis_male + non_myocarditis_female)\n",
    "\n",
    "demo_df = pd.DataFrame([[df_clean.columns[4],myocarditis_male_prop, non_myocarditis_male_prop, p]], \n",
    "                   columns=[\"Features\",\"Myocarditis\",\"Non-Myocarditis\",\"p-value\"]\n",
    "                  )"
   ]
  },
  {
   "cell_type": "markdown",
   "id": "4edb19e6",
   "metadata": {},
   "source": [
    "# 5.3 Age (Continuous Variable): Mann-whitney U Test (Distribution is not normal)"
   ]
  },
  {
   "cell_type": "code",
   "execution_count": 55,
   "id": "59d022c3",
   "metadata": {},
   "outputs": [
    {
     "name": "stdout",
     "output_type": "stream",
     "text": [
      "stat=3377400.500, p=0.500\n"
     ]
    }
   ],
   "source": [
    "# AGE Whitney U Test\n",
    "\n",
    "stat, p = mannwhitneyu(df_myocarditis['AGE_YRS'], df_myocarditis['AGE_YRS'])\n",
    "\n",
    "print('stat=%.3f, p=%.3f' % (stat, p))\n",
    "\n",
    "add_df = pd.DataFrame([[df_clean.columns[3],np.median(df_myocarditis['AGE_YRS']), \n",
    "                        np.median(df_non_myocarditis['AGE_YRS']), p]], \n",
    "                   columns=[\"Features\",\"Myocarditis\",\"Non-Myocarditis\",\"p-value\"]\n",
    "                  )\n",
    "\n",
    "demo_df = demo_df.append(add_df, ignore_index=True)"
   ]
  },
  {
   "cell_type": "markdown",
   "id": "e81eb551",
   "metadata": {},
   "source": [
    "# 5.4 Died (Binary Categorical): Chi-Square Test"
   ]
  },
  {
   "cell_type": "code",
   "execution_count": 56,
   "id": "a58edd75",
   "metadata": {},
   "outputs": [
    {
     "name": "stdout",
     "output_type": "stream",
     "text": [
      "stat=63.673, p=0.000\n"
     ]
    }
   ],
   "source": [
    "# DIED Chi-square Test\n",
    "\n",
    "myocarditis_notdied = len(df_myocarditis[df_myocarditis['DIED'] == 0])\n",
    "myocarditis_died = len(df_myocarditis[df_myocarditis['DIED'] == 1])\n",
    "non_myocarditis_notdied = len(df_non_myocarditis[df_non_myocarditis['DIED'] == 0])\n",
    "non_myocarditis_died = len(df_non_myocarditis[df_non_myocarditis['DIED'] == 1])\n",
    "\n",
    "table = [[myocarditis_notdied,non_myocarditis_notdied],[myocarditis_died,non_myocarditis_died]]\n",
    "\n",
    "stat, p, dof, expected = chi2_contingency(table)\n",
    "print('stat=%.3f, p=%.3f' % (stat, p))"
   ]
  },
  {
   "cell_type": "code",
   "execution_count": 57,
   "id": "aa633864",
   "metadata": {},
   "outputs": [],
   "source": [
    "myocarditis_died_prop = 100 * myocarditis_died / (myocarditis_died + myocarditis_notdied)\n",
    "non_myocarditis_died_prop = 100 * non_myocarditis_died / (non_myocarditis_died + non_myocarditis_notdied)\n",
    "\n",
    "add_df = pd.DataFrame([[df_clean.columns[5],myocarditis_died_prop, non_myocarditis_died_prop, p]], \n",
    "                   columns=[\"Features\",\"Myocarditis\",\"Non-Myocarditis\",\"p-value\"]\n",
    "                  )\n",
    "\n",
    "demo_df = demo_df.append(add_df, ignore_index=True)"
   ]
  },
  {
   "cell_type": "markdown",
   "id": "356a4b09",
   "metadata": {},
   "source": [
    "# 5.5 Life Threatening Condition (Binary Categorical): Chi-Square Test"
   ]
  },
  {
   "cell_type": "code",
   "execution_count": 58,
   "id": "425a57d2",
   "metadata": {},
   "outputs": [
    {
     "name": "stdout",
     "output_type": "stream",
     "text": [
      "stat=3579.323, p=0.000\n"
     ]
    }
   ],
   "source": [
    "# Life_Threatening Chi-Square Test\n",
    "\n",
    "myocarditis_notthreat = len(df_myocarditis[df_myocarditis['L_THREAT'] == 0])\n",
    "myocarditis_threat = len(df_myocarditis[df_myocarditis['L_THREAT'] == 1])\n",
    "non_myocarditis_notthreat = len(df_non_myocarditis[df_non_myocarditis['L_THREAT'] == 0])\n",
    "non_myocarditis_threat = len(df_non_myocarditis[df_non_myocarditis['L_THREAT'] == 1])\n",
    "\n",
    "table = [[myocarditis_notthreat,non_myocarditis_notthreat],[myocarditis_threat,non_myocarditis_threat]]\n",
    "\n",
    "stat, p, dof, expected = chi2_contingency(table)\n",
    "print('stat=%.3f, p=%.3f' % (stat, p))"
   ]
  },
  {
   "cell_type": "code",
   "execution_count": 59,
   "id": "d7581688",
   "metadata": {},
   "outputs": [],
   "source": [
    "myocarditis_threat_prop = 100 * myocarditis_threat / (myocarditis_threat + myocarditis_notthreat)\n",
    "non_myocarditis_threat_prop = 100 * non_myocarditis_threat / (non_myocarditis_threat + non_myocarditis_notthreat)\n",
    "\n",
    "add_df = pd.DataFrame([[df_clean.columns[6],myocarditis_threat_prop, non_myocarditis_threat_prop, p]], \n",
    "                   columns=[\"Features\",\"Myocarditis\",\"Non-Myocarditis\",\"p-value\"]\n",
    "                  )\n",
    "\n",
    "demo_df = demo_df.append(add_df, ignore_index=True)"
   ]
  },
  {
   "cell_type": "markdown",
   "id": "a1414a97",
   "metadata": {},
   "source": [
    "# 5.6 Hospitalisation (Binary Categorical): Chi-Square Test"
   ]
  },
  {
   "cell_type": "code",
   "execution_count": 60,
   "id": "32cfdce3",
   "metadata": {},
   "outputs": [
    {
     "name": "stdout",
     "output_type": "stream",
     "text": [
      "stat=10092.006, p=0.000\n"
     ]
    }
   ],
   "source": [
    "# Hospitalised Chi Square Test\n",
    "\n",
    "myocarditis_nothospitalised = len(df_myocarditis[df_myocarditis['HOSPITAL'] == 0])\n",
    "myocarditis_hospitalised = len(df_myocarditis[df_myocarditis['HOSPITAL'] == 1])\n",
    "non_myocarditis_nothospitalised = len(df_non_myocarditis[df_non_myocarditis['HOSPITAL'] == 0])\n",
    "non_myocarditis_hospitalised = len(df_non_myocarditis[df_non_myocarditis['HOSPITAL'] == 1])\n",
    "\n",
    "table = [[myocarditis_nothospitalised,non_myocarditis_nothospitalised],[myocarditis_hospitalised,non_myocarditis_hospitalised]]\n",
    "\n",
    "stat, p, dof, expected = chi2_contingency(table)\n",
    "print('stat=%.3f, p=%.3f' % (stat, p))"
   ]
  },
  {
   "cell_type": "code",
   "execution_count": 61,
   "id": "c8f53b97",
   "metadata": {},
   "outputs": [],
   "source": [
    "myocarditis_hospitalised_prop = 100 * myocarditis_hospitalised / (myocarditis_hospitalised + myocarditis_nothospitalised)\n",
    "non_myocarditis_hospitalised_prop = 100 * non_myocarditis_hospitalised / (non_myocarditis_hospitalised + non_myocarditis_nothospitalised)\n",
    "\n",
    "add_df = pd.DataFrame([[df_clean.columns[7],myocarditis_hospitalised_prop, non_myocarditis_hospitalised_prop, p]], \n",
    "                   columns=[\"Features\",\"Myocarditis\",\"Non-Myocarditis\",\"p-value\"]\n",
    "                  )\n",
    "\n",
    "demo_df = demo_df.append(add_df, ignore_index=True)"
   ]
  },
  {
   "cell_type": "markdown",
   "id": "235afc13",
   "metadata": {},
   "source": [
    "# 5.7 Number of days Hospitalised (Continuous Variable): Mann-whitney U Test (Distribution is not normal)"
   ]
  },
  {
   "cell_type": "code",
   "execution_count": 62,
   "id": "ed84a7fe",
   "metadata": {},
   "outputs": [
    {
     "name": "stdout",
     "output_type": "stream",
     "text": [
      "stat=3377400.500, p=0.500\n"
     ]
    }
   ],
   "source": [
    "# HOSPDAYS Mann-whitney U test\n",
    "\n",
    "stat, p = mannwhitneyu(df_myocarditis['HOSPDAYS'], df_myocarditis['HOSPDAYS'])\n",
    "\n",
    "print('stat=%.3f, p=%.3f' % (stat, p))"
   ]
  },
  {
   "cell_type": "code",
   "execution_count": 63,
   "id": "33ae8408",
   "metadata": {},
   "outputs": [],
   "source": [
    "add_df = pd.DataFrame([[df_clean.columns[8],np.median(df_myocarditis['HOSPDAYS']), \n",
    "                        np.median(df_non_myocarditis['HOSPDAYS']), p]], \n",
    "                   columns=[\"Features\",\"Myocarditis\",\"Non-Myocarditis\",\"p-value\"]\n",
    "                  )\n",
    "\n",
    "demo_df = demo_df.append(add_df, ignore_index=True)"
   ]
  },
  {
   "cell_type": "markdown",
   "id": "f88b8b22",
   "metadata": {},
   "source": [
    "# 5.8 Extended Hospitalisation Stay (Binary Categorical): Chi-Square Test"
   ]
  },
  {
   "cell_type": "code",
   "execution_count": 64,
   "id": "4399f4c0",
   "metadata": {},
   "outputs": [
    {
     "name": "stdout",
     "output_type": "stream",
     "text": [
      "stat=9.092, p=0.003\n"
     ]
    }
   ],
   "source": [
    "# Extended hospitalization Chi-square Test\n",
    "\n",
    "myocarditis_notx = len(df_myocarditis[df_myocarditis['X_STAY'] == 0])\n",
    "myocarditis_x = len(df_myocarditis[df_myocarditis['X_STAY'] == 1])\n",
    "non_myocarditis_notx = len(df_non_myocarditis[df_non_myocarditis['X_STAY'] == 0])\n",
    "non_myocarditis_x = len(df_non_myocarditis[df_non_myocarditis['X_STAY'] == 1])\n",
    "\n",
    "table = [[myocarditis_notx,non_myocarditis_notx],[myocarditis_x,non_myocarditis_x]]\n",
    "\n",
    "stat, p, dof, expected = chi2_contingency(table)\n",
    "print('stat=%.3f, p=%.3f' % (stat, p))"
   ]
  },
  {
   "cell_type": "code",
   "execution_count": 65,
   "id": "59bbb3e1",
   "metadata": {},
   "outputs": [],
   "source": [
    "myocarditis_x_prop = 100 * myocarditis_x / (myocarditis_x + myocarditis_notx)\n",
    "non_myocarditis_x_prop = 100 * non_myocarditis_x / (non_myocarditis_hospitalised + non_myocarditis_notx)\n",
    "\n",
    "add_df = pd.DataFrame([[df_clean.columns[9],myocarditis_x_prop, non_myocarditis_x_prop, p]], \n",
    "                   columns=[\"Features\",\"Myocarditis\",\"Non-Myocarditis\",\"p-value\"]\n",
    "                  )\n",
    "\n",
    "demo_df = demo_df.append(add_df, ignore_index=True)"
   ]
  },
  {
   "cell_type": "markdown",
   "id": "057a55a8",
   "metadata": {},
   "source": [
    "# 5.9 Disability (Binary Categorical): Chi-Square Test"
   ]
  },
  {
   "cell_type": "code",
   "execution_count": 66,
   "id": "2506e3f5",
   "metadata": {},
   "outputs": [
    {
     "name": "stdout",
     "output_type": "stream",
     "text": [
      "stat=108.610, p=0.000\n"
     ]
    }
   ],
   "source": [
    "# Disability Chi-Square Test\n",
    "\n",
    "myocarditis_notdisable = len(df_myocarditis[df_myocarditis['DISABLE'] == 0])\n",
    "myocarditis_disable = len(df_myocarditis[df_myocarditis['DISABLE'] == 1])\n",
    "non_myocarditis_notdisable = len(df_non_myocarditis[df_non_myocarditis['DISABLE'] == 0])\n",
    "non_myocarditis_disable = len(df_non_myocarditis[df_non_myocarditis['DISABLE'] == 1])\n",
    "\n",
    "table = [[myocarditis_notdisable,non_myocarditis_notdisable],[myocarditis_disable,non_myocarditis_disable]]\n",
    "\n",
    "stat, p, dof, expected = chi2_contingency(table)\n",
    "print('stat=%.3f, p=%.3f' % (stat, p))"
   ]
  },
  {
   "cell_type": "code",
   "execution_count": 67,
   "id": "ade5747c",
   "metadata": {},
   "outputs": [],
   "source": [
    "myocarditis_disable_prop = 100 * myocarditis_disable / (myocarditis_disable + myocarditis_notdisable)\n",
    "non_myocarditis_disable_prop = 100 * non_myocarditis_disable / (non_myocarditis_disable + non_myocarditis_notdisable)\n",
    "\n",
    "add_df = pd.DataFrame([[df_clean.columns[10],myocarditis_disable_prop, non_myocarditis_disable_prop, p]], \n",
    "                   columns=[\"Features\",\"Myocarditis\",\"Non-Myocarditis\",\"p-value\"]\n",
    "                  )\n",
    "\n",
    "demo_df = demo_df.append(add_df, ignore_index=True)"
   ]
  },
  {
   "cell_type": "markdown",
   "id": "9e633794",
   "metadata": {},
   "source": [
    "# 5.10 Number of days between vaccination and onset of AE (Continuous Variable): Mann-whitney U Test (Distribution is not normal)"
   ]
  },
  {
   "cell_type": "code",
   "execution_count": 68,
   "id": "d8388dde",
   "metadata": {},
   "outputs": [
    {
     "name": "stdout",
     "output_type": "stream",
     "text": [
      "stat=3377400.500, p=0.500\n"
     ]
    }
   ],
   "source": [
    "# NUMDAYS Mann-whitney U test\n",
    "\n",
    "stat, p = mannwhitneyu(df_myocarditis['NUMDAYS'], df_myocarditis['NUMDAYS'])\n",
    "\n",
    "print('stat=%.3f, p=%.3f' % (stat, p))"
   ]
  },
  {
   "cell_type": "code",
   "execution_count": 69,
   "id": "322c70b1",
   "metadata": {},
   "outputs": [],
   "source": [
    "add_df = pd.DataFrame([[df_clean.columns[13],np.median(df_myocarditis['NUMDAYS']), \n",
    "                        np.median(df_non_myocarditis['NUMDAYS']), p]], \n",
    "                   columns=[\"Features\",\"Myocarditis\",\"Non-Myocarditis\",\"p-value\"]\n",
    "                  )\n",
    "\n",
    "demo_df = demo_df.append(add_df, ignore_index=True)"
   ]
  },
  {
   "cell_type": "markdown",
   "id": "f015e252",
   "metadata": {},
   "source": [
    "# 5.11 Birth Defect (Binary Categorical): Chi-Square Test"
   ]
  },
  {
   "cell_type": "code",
   "execution_count": 70,
   "id": "65949f1a",
   "metadata": {},
   "outputs": [
    {
     "name": "stdout",
     "output_type": "stream",
     "text": [
      "stat=1.909, p=0.167\n"
     ]
    }
   ],
   "source": [
    "# Birth defect Chi square test\n",
    "\n",
    "myocarditis_notdefect = len(df_myocarditis[df_myocarditis['BIRTH_DEFECT'] == 0])\n",
    "myocarditis_defect = len(df_myocarditis[df_myocarditis['BIRTH_DEFECT'] == 1])\n",
    "non_myocarditis_notdefect = len(df_non_myocarditis[df_non_myocarditis['BIRTH_DEFECT'] == 0])\n",
    "non_myocarditis_defect = len(df_non_myocarditis[df_non_myocarditis['BIRTH_DEFECT'] == 1])\n",
    "\n",
    "table = [[myocarditis_notdefect,non_myocarditis_notdefect],[myocarditis_defect,non_myocarditis_defect]]\n",
    "\n",
    "stat, p, dof, expected = chi2_contingency(table)\n",
    "print('stat=%.3f, p=%.3f' % (stat, p))"
   ]
  },
  {
   "cell_type": "code",
   "execution_count": 71,
   "id": "1efb084c",
   "metadata": {},
   "outputs": [],
   "source": [
    "myocarditis_defect_prop = 100 * myocarditis_defect / (myocarditis_defect + myocarditis_notdefect)\n",
    "non_myocarditis_defect_prop = 100 * non_myocarditis_defect / (non_myocarditis_defect + non_myocarditis_notdefect)\n",
    "\n",
    "add_df = pd.DataFrame([[df_clean.columns[14],myocarditis_defect_prop, non_myocarditis_defect_prop, p]], \n",
    "                   columns=[\"Features\",\"Myocarditis\",\"Non-Myocarditis\",\"p-value\"]\n",
    "                  )\n",
    "\n",
    "demo_df = demo_df.append(add_df, ignore_index=True)"
   ]
  },
  {
   "cell_type": "markdown",
   "id": "4ed6f371",
   "metadata": {},
   "source": [
    "# 5.12 ER_ED_VISIT (Binary Categorical): Chi-Square Test"
   ]
  },
  {
   "cell_type": "code",
   "execution_count": 72,
   "id": "fb3e84a1",
   "metadata": {},
   "outputs": [
    {
     "name": "stdout",
     "output_type": "stream",
     "text": [
      "stat=2690.340, p=0.000\n"
     ]
    }
   ],
   "source": [
    "# ER_ED_VISIT Chi Square Test\n",
    "\n",
    "myocarditis_notER = len(df_myocarditis[df_myocarditis['ER_ED_VISIT'] == 0])\n",
    "myocarditis_ER = len(df_myocarditis[df_myocarditis['ER_ED_VISIT'] == 1])\n",
    "non_myocarditis_notER = len(df_non_myocarditis[df_non_myocarditis['ER_ED_VISIT'] == 0])\n",
    "non_myocarditis_ER = len(df_non_myocarditis[df_non_myocarditis['ER_ED_VISIT'] == 1])\n",
    "\n",
    "table = [[myocarditis_notER,non_myocarditis_notER],[myocarditis_ER,non_myocarditis_ER]]\n",
    "\n",
    "stat, p, dof, expected = chi2_contingency(table)\n",
    "print('stat=%.3f, p=%.3f' % (stat, p))"
   ]
  },
  {
   "cell_type": "code",
   "execution_count": 73,
   "id": "2310c1d3",
   "metadata": {},
   "outputs": [],
   "source": [
    "myocarditis_ER_prop = 100 * myocarditis_ER / (myocarditis_ER + myocarditis_notER)\n",
    "non_myocarditis_ER_prop = 100 * non_myocarditis_ER / (non_myocarditis_ER + non_myocarditis_notER)\n",
    "\n",
    "add_df = pd.DataFrame([[df_clean.columns[15],myocarditis_ER_prop, non_myocarditis_ER_prop, p]], \n",
    "                   columns=[\"Features\",\"Myocarditis\",\"Non-Myocarditis\",\"p-value\"]\n",
    "                  )\n",
    "\n",
    "demo_df = demo_df.append(add_df, ignore_index=True)"
   ]
  },
  {
   "cell_type": "markdown",
   "id": "579559c8",
   "metadata": {},
   "source": [
    "# 5.13 Vaccination Dosage (Binary Categorical): Chi-Square Test"
   ]
  },
  {
   "cell_type": "code",
   "execution_count": 74,
   "id": "dccb7b73",
   "metadata": {},
   "outputs": [
    {
     "name": "stdout",
     "output_type": "stream",
     "text": [
      "stat=5.197, p=0.023\n"
     ]
    }
   ],
   "source": [
    "# VAX_DOSE Chi Square Test\n",
    "\n",
    "myocarditis_vax2 = len(df_myocarditis[df_myocarditis['VAX_DOSE_SERIES'] == 0])\n",
    "myocarditis_vax3ormore = len(df_myocarditis[df_myocarditis['VAX_DOSE_SERIES'] == 1])\n",
    "non_myocarditis_vax2 = len(df_non_myocarditis[df_non_myocarditis['VAX_DOSE_SERIES'] == 0])\n",
    "non_myocarditis_vax3ormore = len(df_non_myocarditis[df_non_myocarditis['VAX_DOSE_SERIES'] == 1])\n",
    "\n",
    "table = [[myocarditis_vax2,non_myocarditis_vax2],[myocarditis_vax3ormore,non_myocarditis_vax3ormore]]\n",
    "\n",
    "stat, p, dof, expected = chi2_contingency(table)\n",
    "print('stat=%.3f, p=%.3f' % (stat, p))"
   ]
  },
  {
   "cell_type": "code",
   "execution_count": 75,
   "id": "033a3ea9",
   "metadata": {},
   "outputs": [],
   "source": [
    "myocarditis_dose_prop = 100 * myocarditis_vax2 / (myocarditis_vax2 + myocarditis_vax3ormore)\n",
    "non_myocarditis_dose_prop = 100 * non_myocarditis_vax2 / (non_myocarditis_vax2 + non_myocarditis_vax3ormore)\n",
    "\n",
    "add_df = pd.DataFrame([[df_clean.columns[17],myocarditis_dose_prop, non_myocarditis_dose_prop, p]], \n",
    "                   columns=[\"Features\",\"Myocarditis\",\"Non-Myocarditis\",\"p-value\"]\n",
    "                  )\n",
    "\n",
    "demo_df = demo_df.append(add_df, ignore_index=True)"
   ]
  },
  {
   "cell_type": "markdown",
   "id": "b1cedb2d",
   "metadata": {},
   "source": [
    "# 5.14 Vaccination Site (Multi-Categorical): Chi-Square Test"
   ]
  },
  {
   "cell_type": "code",
   "execution_count": 76,
   "id": "ab5ccfec",
   "metadata": {},
   "outputs": [
    {
     "name": "stdout",
     "output_type": "stream",
     "text": [
      "stat=286.752, p=0.000\n"
     ]
    }
   ],
   "source": [
    "# VAX_SITE Chi Square Test\n",
    "\n",
    "myocarditis_la = len(df_myocarditis[df_myocarditis['VAX_SITE'] == 'LA'])\n",
    "myocarditis_ra = len(df_myocarditis[df_myocarditis['VAX_SITE'] == 'RA'])\n",
    "myocarditis_other = len(df_myocarditis[df_myocarditis['VAX_SITE'] == 'Others'])\n",
    "\n",
    "non_myocarditis_la = len(df_non_myocarditis[df_non_myocarditis['VAX_SITE'] == 'LA'])\n",
    "non_myocarditis_ra = len(df_non_myocarditis[df_non_myocarditis['VAX_SITE'] == 'RA'])\n",
    "non_myocarditis_other = len(df_non_myocarditis[df_non_myocarditis['VAX_SITE'] == 'Others'])\n",
    "\n",
    "table = [\n",
    "    [myocarditis_la,non_myocarditis_la],\n",
    "    [myocarditis_ra,non_myocarditis_ra],\n",
    "    [myocarditis_other,non_myocarditis_other]\n",
    "        ]\n",
    "\n",
    "stat, p, dof, expected = chi2_contingency(table)\n",
    "print('stat=%.3f, p=%.3f' % (stat, p))"
   ]
  },
  {
   "cell_type": "code",
   "execution_count": 77,
   "id": "e127fa5a",
   "metadata": {},
   "outputs": [],
   "source": [
    "myocarditis_la_prop = 100 * myocarditis_la / (myocarditis_la + myocarditis_ra + myocarditis_other)\n",
    "non_myocarditis_la_prop = 100 * non_myocarditis_la / (non_myocarditis_la + non_myocarditis_ra + non_myocarditis_other)\n",
    "\n",
    "myocarditis_ra_prop = 100 * myocarditis_ra / (myocarditis_la + myocarditis_ra + myocarditis_other)\n",
    "non_myocarditis_ra_prop = 100 * non_myocarditis_ra / (non_myocarditis_la + non_myocarditis_ra + non_myocarditis_other)\n",
    "\n",
    "add_df = pd.DataFrame([[df_clean.columns[18],'', '', p]], \n",
    "                   columns=[\"Features\",\"Myocarditis\",\"Non-Myocarditis\",\"p-value\"]\n",
    "                  )\n",
    "\n",
    "demo_df = demo_df.append(add_df, ignore_index=True)"
   ]
  },
  {
   "cell_type": "code",
   "execution_count": 78,
   "id": "d7021831",
   "metadata": {},
   "outputs": [],
   "source": [
    "add_df = pd.DataFrame([['Left_Arm',myocarditis_la_prop, non_myocarditis_la_prop, '']], \n",
    "                   columns=[\"Features\",\"Myocarditis\",\"Non-Myocarditis\",\"p-value\"]\n",
    "                  )\n",
    "\n",
    "demo_df = demo_df.append(add_df, ignore_index=True)"
   ]
  },
  {
   "cell_type": "code",
   "execution_count": 79,
   "id": "cbf08627",
   "metadata": {},
   "outputs": [],
   "source": [
    "add_df = pd.DataFrame([['Right Arm',myocarditis_ra_prop, non_myocarditis_ra_prop, '']], \n",
    "                   columns=[\"Features\",\"Myocarditis\",\"Non-Myocarditis\",\"p-value\"]\n",
    "                  )\n",
    "\n",
    "demo_df = demo_df.append(add_df, ignore_index=True)"
   ]
  },
  {
   "cell_type": "markdown",
   "id": "c617e4a2",
   "metadata": {},
   "source": [
    "# 5.15 Vaccination Type (Multi-Categorical): Chi-Square Test"
   ]
  },
  {
   "cell_type": "code",
   "execution_count": 80,
   "id": "de31d6bd",
   "metadata": {},
   "outputs": [
    {
     "name": "stdout",
     "output_type": "stream",
     "text": [
      "stat=197.796, p=0.000\n"
     ]
    }
   ],
   "source": [
    "# VAX_MANU Chi-Square Test\n",
    "\n",
    "myocarditis_moderna = len(df_myocarditis[df_myocarditis['VAX_MANU'] == 'MODERNA'])\n",
    "myocarditis_pfizer = len(df_myocarditis[df_myocarditis['VAX_MANU'] == 'PFIZER\\\\BIONTECH'])\n",
    "myocarditis_unknown = len(df_myocarditis[df_myocarditis['VAX_MANU'] == 'UNKNOWN MANUFACTURER'])\n",
    "myocarditis_janssen = len(df_myocarditis[df_myocarditis['VAX_MANU'] == 'JANSSEN'])\n",
    "\n",
    "non_myocarditis_moderna = len(df_non_myocarditis[df_non_myocarditis['VAX_MANU'] == 'MODERNA'])\n",
    "non_myocarditis_pfizer = len(df_non_myocarditis[df_non_myocarditis['VAX_MANU'] == 'PFIZER\\\\BIONTECH'])\n",
    "non_myocarditis_unknown = len(df_non_myocarditis[df_non_myocarditis['VAX_MANU'] == 'UNKNOWN MANUFACTURER'])\n",
    "non_myocarditis_janssen = len(df_non_myocarditis[df_non_myocarditis['VAX_MANU'] == 'JANSSEN'])\n",
    "\n",
    "table = [\n",
    "    [myocarditis_moderna,non_myocarditis_moderna],\n",
    "    [myocarditis_pfizer,non_myocarditis_pfizer],\n",
    "    [myocarditis_unknown, non_myocarditis_unknown],\n",
    "    [myocarditis_janssen,non_myocarditis_janssen]\n",
    "]\n",
    "\n",
    "stat, p, dof, expected = chi2_contingency(table)\n",
    "print('stat=%.3f, p=%.3f' % (stat, p))"
   ]
  },
  {
   "cell_type": "code",
   "execution_count": 81,
   "id": "74d14ea9",
   "metadata": {},
   "outputs": [],
   "source": [
    "myocarditis_moderna_prop = 100 * myocarditis_moderna / (myocarditis_moderna + myocarditis_pfizer + myocarditis_unknown + myocarditis_janssen)\n",
    "non_myocarditis_moderna_prop = 100 * non_myocarditis_moderna / (non_myocarditis_moderna + non_myocarditis_pfizer + non_myocarditis_unknown + non_myocarditis_janssen)\n",
    "\n",
    "myocarditis_pfizer_prop = 100 * myocarditis_pfizer / (myocarditis_moderna + myocarditis_pfizer + myocarditis_unknown + myocarditis_janssen)\n",
    "non_myocarditis_pfizer_prop = 100 * non_myocarditis_pfizer / (non_myocarditis_moderna + non_myocarditis_pfizer + non_myocarditis_unknown + non_myocarditis_janssen)\n",
    "\n",
    "myocarditis_janssen_prop = 100 * myocarditis_janssen / (myocarditis_moderna + myocarditis_pfizer + myocarditis_unknown + myocarditis_janssen)\n",
    "non_myocarditis_janssen_prop = 100 * non_myocarditis_janssen / (non_myocarditis_moderna + non_myocarditis_pfizer + non_myocarditis_unknown + non_myocarditis_janssen)\n",
    "\n",
    "\n",
    "add_df = pd.DataFrame([[df_clean.columns[16],'', '', p]], \n",
    "                   columns=[\"Features\",\"Myocarditis\",\"Non-Myocarditis\",\"p-value\"]\n",
    "                  )\n",
    "\n",
    "demo_df = demo_df.append(add_df, ignore_index=True)"
   ]
  },
  {
   "cell_type": "code",
   "execution_count": 82,
   "id": "49500bac",
   "metadata": {},
   "outputs": [],
   "source": [
    "add_df = pd.DataFrame([['Moderna',myocarditis_moderna_prop, non_myocarditis_moderna_prop, '']], \n",
    "                   columns=[\"Features\",\"Myocarditis\",\"Non-Myocarditis\",\"p-value\"]\n",
    "                  )\n",
    "\n",
    "demo_df = demo_df.append(add_df, ignore_index=True)"
   ]
  },
  {
   "cell_type": "code",
   "execution_count": 83,
   "id": "2a0e0e06",
   "metadata": {},
   "outputs": [],
   "source": [
    "add_df = pd.DataFrame([['Pfizer',myocarditis_pfizer_prop, non_myocarditis_pfizer_prop, '']], \n",
    "                   columns=[\"Features\",\"Myocarditis\",\"Non-Myocarditis\",\"p-value\"]\n",
    "                  )\n",
    "\n",
    "demo_df = demo_df.append(add_df, ignore_index=True)"
   ]
  },
  {
   "cell_type": "code",
   "execution_count": 84,
   "id": "2f888282",
   "metadata": {},
   "outputs": [],
   "source": [
    "add_df = pd.DataFrame([['Janssen',myocarditis_janssen_prop, non_myocarditis_janssen_prop, '']], \n",
    "                   columns=[\"Features\",\"Myocarditis\",\"Non-Myocarditis\",\"p-value\"]\n",
    "                  )\n",
    "\n",
    "demo_df = demo_df.append(add_df, ignore_index=True)"
   ]
  },
  {
   "cell_type": "markdown",
   "id": "abd9ed55",
   "metadata": {},
   "source": [
    "# 5.16 Demographic and Feature Table"
   ]
  },
  {
   "cell_type": "code",
   "execution_count": 85,
   "id": "65b4cd30",
   "metadata": {},
   "outputs": [
    {
     "name": "stdout",
     "output_type": "stream",
     "text": [
      "           Features Myocarditis Non-Myocarditis   p-value\n",
      "0               SEX   60.484802       27.015087       0.0\n",
      "1           AGE_YRS        41.0            49.0  0.499996\n",
      "2              DIED    3.232012        1.377916       0.0\n",
      "3          L_THREAT   21.046556         2.46623       0.0\n",
      "4          HOSPITAL   60.253944        7.479115       0.0\n",
      "5          HOSPDAYS         1.0             0.0  0.499996\n",
      "6            X_STAY    0.192382        0.042409  0.002567\n",
      "7           DISABLE    6.156214        2.766531       0.0\n",
      "8           NUMDAYS         4.0             1.0  0.499996\n",
      "9      BIRTH_DEFECT    0.192382        0.090939  0.167033\n",
      "10      ER_ED_VISIT   56.752597       17.672189       0.0\n",
      "11  VAX_DOSE_SERIES   98.499423       97.827061  0.022631\n",
      "12         VAX_SITE                                   0.0\n",
      "13         Left_Arm   69.834552       72.944885          \n",
      "14        Right Arm   22.431705       24.545906          \n",
      "15         VAX_MANU                                   0.0\n",
      "16          Moderna    35.82147       46.172548          \n",
      "17           Pfizer    59.56137       45.999524          \n",
      "18          Janssen    4.501731        7.697515          \n"
     ]
    }
   ],
   "source": [
    "print(demo_df)"
   ]
  },
  {
   "cell_type": "code",
   "execution_count": 86,
   "id": "87b2dcc1",
   "metadata": {},
   "outputs": [
    {
     "data": {
      "text/plain": [
       "VAERS_ID             int64\n",
       "RECVDATE            object\n",
       "STATE               object\n",
       "AGE_YRS            float64\n",
       "SEX                  int64\n",
       "DIED                 int64\n",
       "L_THREAT             int64\n",
       "HOSPITAL             int64\n",
       "HOSPDAYS             int64\n",
       "X_STAY               int64\n",
       "DISABLE              int64\n",
       "VAX_DATE            object\n",
       "ONSET_DATE          object\n",
       "NUMDAYS              int64\n",
       "BIRTH_DEFECT         int64\n",
       "ER_ED_VISIT          int64\n",
       "VAX_MANU            object\n",
       "VAX_DOSE_SERIES      int64\n",
       "VAX_SITE            object\n",
       "SYMPTOM1            object\n",
       "dtype: object"
      ]
     },
     "execution_count": 86,
     "metadata": {},
     "output_type": "execute_result"
    }
   ],
   "source": [
    "df_clean.dtypes"
   ]
  },
  {
   "cell_type": "code",
   "execution_count": 87,
   "id": "33e47aeb",
   "metadata": {},
   "outputs": [
    {
     "data": {
      "text/plain": [
       "array(['Non-Myocarditis-related', 'Myocarditis-related'], dtype=object)"
      ]
     },
     "execution_count": 87,
     "metadata": {},
     "output_type": "execute_result"
    }
   ],
   "source": [
    "df_clean['SYMPTOM1'].unique()"
   ]
  },
  {
   "cell_type": "code",
   "execution_count": 88,
   "id": "9c91ae1b",
   "metadata": {},
   "outputs": [
    {
     "data": {
      "text/plain": [
       "Index(['VAERS_ID', 'RECVDATE', 'STATE', 'AGE_YRS', 'SEX', 'DIED', 'L_THREAT',\n",
       "       'HOSPITAL', 'HOSPDAYS', 'X_STAY', 'DISABLE', 'VAX_DATE', 'ONSET_DATE',\n",
       "       'NUMDAYS', 'BIRTH_DEFECT', 'ER_ED_VISIT', 'VAX_MANU', 'VAX_DOSE_SERIES',\n",
       "       'VAX_SITE', 'SYMPTOM1'],\n",
       "      dtype='object')"
      ]
     },
     "execution_count": 88,
     "metadata": {},
     "output_type": "execute_result"
    }
   ],
   "source": [
    "df_clean.columns"
   ]
  },
  {
   "cell_type": "code",
   "execution_count": 89,
   "id": "2a7f4654",
   "metadata": {},
   "outputs": [],
   "source": [
    "df_clean = df_clean.drop(['VAERS_ID','RECVDATE','VAX_DATE','ONSET_DATE'], axis=1)\n",
    "df_clean['SYMPTOM1'] = df_clean['SYMPTOM1'].replace({\n",
    "    'Non-Myocarditis-related':0,\n",
    "    'Myocarditis-related':1\n",
    "})\n"
   ]
  },
  {
   "cell_type": "markdown",
   "id": "8baf77bc",
   "metadata": {},
   "source": [
    "# 6. Introducing Control Group"
   ]
  },
  {
   "cell_type": "markdown",
   "id": "733104c4",
   "metadata": {},
   "source": [
    "In this step, we will be introducing data from a control group which consist of unvaccinated individuals. The data is simulated base on the original dataset and the myocarditis/pericarditis status is assigned to the outcome variable using the combined prevalence of myocarditis and pericarditis calculated in 2019.\n",
    "\n",
    "This step is essential because the model will be able to \"see\" the data for unvaccinated people and take this baseline into account when predicting whether a person will be at risk of myocarditis/pericarditis. "
   ]
  },
  {
   "cell_type": "code",
   "execution_count": 90,
   "id": "6c4f6b96",
   "metadata": {},
   "outputs": [],
   "source": [
    "# Introducing control group"
   ]
  },
  {
   "cell_type": "code",
   "execution_count": 91,
   "id": "013dd2d8",
   "metadata": {},
   "outputs": [],
   "source": [
    "df_control = df_clean.head(1)"
   ]
  },
  {
   "cell_type": "code",
   "execution_count": 92,
   "id": "c66918b6",
   "metadata": {},
   "outputs": [],
   "source": [
    "# Create state labels for randomisation\n",
    "\n",
    "state_label = []\n",
    "\n",
    "for i in df_clean['STATE'].unique():\n",
    "    state_label.append(i)\n",
    "    "
   ]
  },
  {
   "cell_type": "code",
   "execution_count": 93,
   "id": "26f039ed",
   "metadata": {},
   "outputs": [],
   "source": [
    "# Create age labels for randomisation\n",
    "\n",
    "age_yrs_label = []\n",
    "\n",
    "for i in df_clean['AGE_YRS'].unique():\n",
    "    age_yrs_label.append(i)"
   ]
  },
  {
   "cell_type": "code",
   "execution_count": 94,
   "id": "d77c360b",
   "metadata": {},
   "outputs": [],
   "source": [
    "# Create gender labels for randomisation\n",
    "\n",
    "sex_label = []\n",
    "\n",
    "for i in df_clean['SEX'].unique():\n",
    "    sex_label.append(i)"
   ]
  },
  {
   "cell_type": "code",
   "execution_count": 95,
   "id": "1ff5fcca",
   "metadata": {},
   "outputs": [],
   "source": [
    "# Create binary labels \n",
    "\n",
    "binary_label = ['1','0']"
   ]
  },
  {
   "cell_type": "code",
   "execution_count": 96,
   "id": "bc3c9435",
   "metadata": {},
   "outputs": [],
   "source": [
    "# Create labels for HOSPDAYS\n",
    "\n",
    "hospdays_label = []\n",
    "\n",
    "for i in df_clean[df_clean['HOSPDAYS']<9999]['HOSPDAYS'].unique():\n",
    "    hospdays_label.append(i)"
   ]
  },
  {
   "cell_type": "code",
   "execution_count": 97,
   "id": "2cfb7a45",
   "metadata": {},
   "outputs": [],
   "source": [
    "# Create labels for NUMDAYS\n",
    "\n",
    "numdays_label = []\n",
    "\n",
    "for i in df_clean['NUMDAYS'].unique():\n",
    "    numdays_label.append(i)"
   ]
  },
  {
   "cell_type": "code",
   "execution_count": 98,
   "id": "ce00d24d",
   "metadata": {},
   "outputs": [],
   "source": [
    "# Create label for symptoms\n",
    "\n",
    "symptoms_label = []\n",
    "\n",
    "for i in df_clean['SYMPTOM1'].unique():\n",
    "    symptoms_label.append(i)"
   ]
  },
  {
   "cell_type": "markdown",
   "id": "b579893d",
   "metadata": {},
   "source": [
    "# 6.1 Creating Artificial Control Group Dataset"
   ]
  },
  {
   "cell_type": "code",
   "execution_count": 99,
   "id": "9f7045d7",
   "metadata": {},
   "outputs": [],
   "source": [
    "data = {\n",
    "    'STATE': np.random.choice(state_label, size = 250000),\n",
    "    'AGE_YRS': np.random.choice(age_yrs_label, size = 250000),\n",
    "    'SEX': np.random.choice(sex_label, size = 250000),\n",
    "    'DIED': np.random.choice(binary_label, size = 250000),\n",
    "    'L_THREAT': np.random.choice(binary_label, size = 250000),\n",
    "    'HOSPITAL': np.random.choice(binary_label, size = 250000),\n",
    "    'HOSPDAYS': np.random.choice(hospdays_label, size = 250000),\n",
    "    'X_STAY': np.random.choice(binary_label, size = 250000),\n",
    "    'DISABLE': np.random.choice(binary_label, size = 250000),\n",
    "    'NUMDAYS': 0,\n",
    "    'BIRTH_DEFECT': np.random.choice(binary_label, size = 250000),\n",
    "    'ER_ED_VISIT': np.random.choice(binary_label, size = 250000),\n",
    "    'VAX_MANU': 'Unvaccinated',\n",
    "    'VAX_DOSE_SERIES': 0,\n",
    "    'VAX_SITE': 'None',\n",
    "    'SYMPTOM1': np.random.choice(symptoms_label, size = 250000, p=[1-0.000322,0.000322])\n",
    "       }"
   ]
  },
  {
   "cell_type": "code",
   "execution_count": 100,
   "id": "bfe67a39",
   "metadata": {},
   "outputs": [],
   "source": [
    "df_control = pd.DataFrame(data)\n"
   ]
  },
  {
   "cell_type": "markdown",
   "id": "7977a6ca",
   "metadata": {},
   "source": [
    "# 6.2 Combining Control Croup with Original Dataset"
   ]
  },
  {
   "cell_type": "code",
   "execution_count": 101,
   "id": "64979ea4",
   "metadata": {},
   "outputs": [
    {
     "data": {
      "text/html": [
       "<div>\n",
       "<style scoped>\n",
       "    .dataframe tbody tr th:only-of-type {\n",
       "        vertical-align: middle;\n",
       "    }\n",
       "\n",
       "    .dataframe tbody tr th {\n",
       "        vertical-align: top;\n",
       "    }\n",
       "\n",
       "    .dataframe thead th {\n",
       "        text-align: right;\n",
       "    }\n",
       "</style>\n",
       "<table border=\"1\" class=\"dataframe\">\n",
       "  <thead>\n",
       "    <tr style=\"text-align: right;\">\n",
       "      <th></th>\n",
       "      <th>STATE</th>\n",
       "      <th>AGE_YRS</th>\n",
       "      <th>SEX</th>\n",
       "      <th>DIED</th>\n",
       "      <th>L_THREAT</th>\n",
       "      <th>HOSPITAL</th>\n",
       "      <th>HOSPDAYS</th>\n",
       "      <th>X_STAY</th>\n",
       "      <th>DISABLE</th>\n",
       "      <th>NUMDAYS</th>\n",
       "      <th>BIRTH_DEFECT</th>\n",
       "      <th>ER_ED_VISIT</th>\n",
       "      <th>VAX_MANU</th>\n",
       "      <th>VAX_DOSE_SERIES</th>\n",
       "      <th>VAX_SITE</th>\n",
       "      <th>SYMPTOM1</th>\n",
       "    </tr>\n",
       "  </thead>\n",
       "  <tbody>\n",
       "    <tr>\n",
       "      <th>0</th>\n",
       "      <td>FL</td>\n",
       "      <td>68.0</td>\n",
       "      <td>0</td>\n",
       "      <td>0</td>\n",
       "      <td>1</td>\n",
       "      <td>1</td>\n",
       "      <td>11</td>\n",
       "      <td>1</td>\n",
       "      <td>0</td>\n",
       "      <td>0</td>\n",
       "      <td>1</td>\n",
       "      <td>0</td>\n",
       "      <td>Unvaccinated</td>\n",
       "      <td>0</td>\n",
       "      <td>None</td>\n",
       "      <td>0</td>\n",
       "    </tr>\n",
       "    <tr>\n",
       "      <th>1</th>\n",
       "      <td>AK</td>\n",
       "      <td>30.0</td>\n",
       "      <td>0</td>\n",
       "      <td>1</td>\n",
       "      <td>0</td>\n",
       "      <td>1</td>\n",
       "      <td>70</td>\n",
       "      <td>1</td>\n",
       "      <td>0</td>\n",
       "      <td>0</td>\n",
       "      <td>0</td>\n",
       "      <td>0</td>\n",
       "      <td>Unvaccinated</td>\n",
       "      <td>0</td>\n",
       "      <td>None</td>\n",
       "      <td>0</td>\n",
       "    </tr>\n",
       "    <tr>\n",
       "      <th>2</th>\n",
       "      <td>FL</td>\n",
       "      <td>62.0</td>\n",
       "      <td>1</td>\n",
       "      <td>1</td>\n",
       "      <td>0</td>\n",
       "      <td>0</td>\n",
       "      <td>12</td>\n",
       "      <td>1</td>\n",
       "      <td>0</td>\n",
       "      <td>0</td>\n",
       "      <td>0</td>\n",
       "      <td>1</td>\n",
       "      <td>Unvaccinated</td>\n",
       "      <td>0</td>\n",
       "      <td>None</td>\n",
       "      <td>0</td>\n",
       "    </tr>\n",
       "    <tr>\n",
       "      <th>3</th>\n",
       "      <td>WA</td>\n",
       "      <td>81.0</td>\n",
       "      <td>1</td>\n",
       "      <td>0</td>\n",
       "      <td>1</td>\n",
       "      <td>1</td>\n",
       "      <td>31</td>\n",
       "      <td>0</td>\n",
       "      <td>0</td>\n",
       "      <td>0</td>\n",
       "      <td>1</td>\n",
       "      <td>0</td>\n",
       "      <td>Unvaccinated</td>\n",
       "      <td>0</td>\n",
       "      <td>None</td>\n",
       "      <td>0</td>\n",
       "    </tr>\n",
       "    <tr>\n",
       "      <th>4</th>\n",
       "      <td>Ca</td>\n",
       "      <td>104.0</td>\n",
       "      <td>1</td>\n",
       "      <td>0</td>\n",
       "      <td>1</td>\n",
       "      <td>1</td>\n",
       "      <td>11</td>\n",
       "      <td>1</td>\n",
       "      <td>1</td>\n",
       "      <td>0</td>\n",
       "      <td>0</td>\n",
       "      <td>1</td>\n",
       "      <td>Unvaccinated</td>\n",
       "      <td>0</td>\n",
       "      <td>None</td>\n",
       "      <td>0</td>\n",
       "    </tr>\n",
       "  </tbody>\n",
       "</table>\n",
       "</div>"
      ],
      "text/plain": [
       "  STATE  AGE_YRS  SEX DIED L_THREAT HOSPITAL  HOSPDAYS X_STAY DISABLE  \\\n",
       "0    FL     68.0    0    0        1        1        11      1       0   \n",
       "1    AK     30.0    0    1        0        1        70      1       0   \n",
       "2    FL     62.0    1    1        0        0        12      1       0   \n",
       "3    WA     81.0    1    0        1        1        31      0       0   \n",
       "4    Ca    104.0    1    0        1        1        11      1       1   \n",
       "\n",
       "   NUMDAYS BIRTH_DEFECT ER_ED_VISIT      VAX_MANU  VAX_DOSE_SERIES VAX_SITE  \\\n",
       "0        0            1           0  Unvaccinated                0     None   \n",
       "1        0            0           0  Unvaccinated                0     None   \n",
       "2        0            0           1  Unvaccinated                0     None   \n",
       "3        0            1           0  Unvaccinated                0     None   \n",
       "4        0            0           1  Unvaccinated                0     None   \n",
       "\n",
       "   SYMPTOM1  \n",
       "0         0  \n",
       "1         0  \n",
       "2         0  \n",
       "3         0  \n",
       "4         0  "
      ]
     },
     "execution_count": 101,
     "metadata": {},
     "output_type": "execute_result"
    }
   ],
   "source": [
    "df_control.head()"
   ]
  },
  {
   "cell_type": "code",
   "execution_count": 102,
   "id": "0b2300fa",
   "metadata": {},
   "outputs": [
    {
     "data": {
      "text/html": [
       "<div>\n",
       "<style scoped>\n",
       "    .dataframe tbody tr th:only-of-type {\n",
       "        vertical-align: middle;\n",
       "    }\n",
       "\n",
       "    .dataframe tbody tr th {\n",
       "        vertical-align: top;\n",
       "    }\n",
       "\n",
       "    .dataframe thead th {\n",
       "        text-align: right;\n",
       "    }\n",
       "</style>\n",
       "<table border=\"1\" class=\"dataframe\">\n",
       "  <thead>\n",
       "    <tr style=\"text-align: right;\">\n",
       "      <th></th>\n",
       "      <th>STATE</th>\n",
       "      <th>AGE_YRS</th>\n",
       "      <th>SEX</th>\n",
       "      <th>DIED</th>\n",
       "      <th>L_THREAT</th>\n",
       "      <th>HOSPITAL</th>\n",
       "      <th>HOSPDAYS</th>\n",
       "      <th>X_STAY</th>\n",
       "      <th>DISABLE</th>\n",
       "      <th>NUMDAYS</th>\n",
       "      <th>BIRTH_DEFECT</th>\n",
       "      <th>ER_ED_VISIT</th>\n",
       "      <th>VAX_MANU</th>\n",
       "      <th>VAX_DOSE_SERIES</th>\n",
       "      <th>VAX_SITE</th>\n",
       "      <th>SYMPTOM1</th>\n",
       "    </tr>\n",
       "  </thead>\n",
       "  <tbody>\n",
       "    <tr>\n",
       "      <th>0</th>\n",
       "      <td>TX</td>\n",
       "      <td>33.0</td>\n",
       "      <td>1</td>\n",
       "      <td>0</td>\n",
       "      <td>0</td>\n",
       "      <td>0</td>\n",
       "      <td>0</td>\n",
       "      <td>0</td>\n",
       "      <td>0</td>\n",
       "      <td>2</td>\n",
       "      <td>0</td>\n",
       "      <td>0</td>\n",
       "      <td>MODERNA</td>\n",
       "      <td>0</td>\n",
       "      <td>LA</td>\n",
       "      <td>0</td>\n",
       "    </tr>\n",
       "    <tr>\n",
       "      <th>1</th>\n",
       "      <td>CA</td>\n",
       "      <td>73.0</td>\n",
       "      <td>1</td>\n",
       "      <td>0</td>\n",
       "      <td>0</td>\n",
       "      <td>0</td>\n",
       "      <td>0</td>\n",
       "      <td>0</td>\n",
       "      <td>0</td>\n",
       "      <td>0</td>\n",
       "      <td>0</td>\n",
       "      <td>0</td>\n",
       "      <td>MODERNA</td>\n",
       "      <td>0</td>\n",
       "      <td>RA</td>\n",
       "      <td>0</td>\n",
       "    </tr>\n",
       "    <tr>\n",
       "      <th>2</th>\n",
       "      <td>WA</td>\n",
       "      <td>23.0</td>\n",
       "      <td>1</td>\n",
       "      <td>0</td>\n",
       "      <td>0</td>\n",
       "      <td>0</td>\n",
       "      <td>0</td>\n",
       "      <td>0</td>\n",
       "      <td>0</td>\n",
       "      <td>0</td>\n",
       "      <td>0</td>\n",
       "      <td>1</td>\n",
       "      <td>PFIZER\\BIONTECH</td>\n",
       "      <td>0</td>\n",
       "      <td>LA</td>\n",
       "      <td>0</td>\n",
       "    </tr>\n",
       "    <tr>\n",
       "      <th>3</th>\n",
       "      <td>TX</td>\n",
       "      <td>47.0</td>\n",
       "      <td>1</td>\n",
       "      <td>0</td>\n",
       "      <td>0</td>\n",
       "      <td>0</td>\n",
       "      <td>0</td>\n",
       "      <td>0</td>\n",
       "      <td>0</td>\n",
       "      <td>7</td>\n",
       "      <td>0</td>\n",
       "      <td>0</td>\n",
       "      <td>MODERNA</td>\n",
       "      <td>0</td>\n",
       "      <td>LA</td>\n",
       "      <td>0</td>\n",
       "    </tr>\n",
       "    <tr>\n",
       "      <th>4</th>\n",
       "      <td>NV</td>\n",
       "      <td>44.0</td>\n",
       "      <td>1</td>\n",
       "      <td>0</td>\n",
       "      <td>0</td>\n",
       "      <td>0</td>\n",
       "      <td>0</td>\n",
       "      <td>0</td>\n",
       "      <td>0</td>\n",
       "      <td>0</td>\n",
       "      <td>0</td>\n",
       "      <td>0</td>\n",
       "      <td>MODERNA</td>\n",
       "      <td>0</td>\n",
       "      <td>LA</td>\n",
       "      <td>0</td>\n",
       "    </tr>\n",
       "  </tbody>\n",
       "</table>\n",
       "</div>"
      ],
      "text/plain": [
       "  STATE  AGE_YRS  SEX  DIED  L_THREAT  HOSPITAL  HOSPDAYS  X_STAY  DISABLE  \\\n",
       "0    TX     33.0    1     0         0         0         0       0        0   \n",
       "1    CA     73.0    1     0         0         0         0       0        0   \n",
       "2    WA     23.0    1     0         0         0         0       0        0   \n",
       "3    TX     47.0    1     0         0         0         0       0        0   \n",
       "4    NV     44.0    1     0         0         0         0       0        0   \n",
       "\n",
       "   NUMDAYS  BIRTH_DEFECT  ER_ED_VISIT         VAX_MANU  VAX_DOSE_SERIES  \\\n",
       "0        2             0            0          MODERNA                0   \n",
       "1        0             0            0          MODERNA                0   \n",
       "2        0             0            1  PFIZER\\BIONTECH                0   \n",
       "3        7             0            0          MODERNA                0   \n",
       "4        0             0            0          MODERNA                0   \n",
       "\n",
       "  VAX_SITE  SYMPTOM1  \n",
       "0       LA         0  \n",
       "1       RA         0  \n",
       "2       LA         0  \n",
       "3       LA         0  \n",
       "4       LA         0  "
      ]
     },
     "execution_count": 102,
     "metadata": {},
     "output_type": "execute_result"
    }
   ],
   "source": [
    "df_clean.head()"
   ]
  },
  {
   "cell_type": "code",
   "execution_count": 103,
   "id": "2ef6b8cb",
   "metadata": {},
   "outputs": [],
   "source": [
    "df_clean_final = pd.concat([df_clean, df_control], ignore_index=True)"
   ]
  },
  {
   "cell_type": "code",
   "execution_count": 104,
   "id": "f4f35f00",
   "metadata": {},
   "outputs": [
    {
     "data": {
      "text/plain": [
       "(794722, 16)"
      ]
     },
     "execution_count": 104,
     "metadata": {},
     "output_type": "execute_result"
    }
   ],
   "source": [
    "df_clean_final.shape"
   ]
  },
  {
   "cell_type": "code",
   "execution_count": 105,
   "id": "90d94f87",
   "metadata": {},
   "outputs": [],
   "source": [
    "df_clean_final.to_csv(\"df_clean_final.csv\",index=False)"
   ]
  }
 ],
 "metadata": {
  "kernelspec": {
   "display_name": "Python 3",
   "language": "python",
   "name": "python3"
  },
  "language_info": {
   "codemirror_mode": {
    "name": "ipython",
    "version": 3
   },
   "file_extension": ".py",
   "mimetype": "text/x-python",
   "name": "python",
   "nbconvert_exporter": "python",
   "pygments_lexer": "ipython3",
   "version": "3.8.8"
  }
 },
 "nbformat": 4,
 "nbformat_minor": 5
}
